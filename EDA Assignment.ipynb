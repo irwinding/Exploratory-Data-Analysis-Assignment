{
 "cells": [
  {
   "cell_type": "code",
   "execution_count": 1,
   "id": "canadian-majority",
   "metadata": {},
   "outputs": [],
   "source": [
    "# Import relevant libraries\n",
    "\n",
    "import numpy as np\n",
    "import pandas as pd\n",
    "import seaborn as sb\n",
    "import matplotlib.pyplot as plt \n",
    "sb.set() # set the default Seaborn style for graphics"
   ]
  },
  {
   "cell_type": "code",
   "execution_count": 2,
   "id": "protective-sympathy",
   "metadata": {},
   "outputs": [],
   "source": [
    "# Read in the datasets\n",
    "\n",
    "performance_lang = pd.read_csv('performance_lang.csv')\n",
    "performance_math = pd.read_csv('performance_math.csv')"
   ]
  },
  {
   "cell_type": "markdown",
   "id": "missing-printer",
   "metadata": {},
   "source": [
    "Description of dataset\n",
    "\n",
    "> **School** - Student's school (binary: \"SchoolA\" or \"SchoolB\")  \n",
    "> **Gender** - Student's gender (binary: \"Female\" or \"Male\")  \n",
    "> **Age** - Student's age (numeric)  \n",
    "> **Residence** - Student's residence type (binary: \"Urban\" or \"Rural\")  \n",
    "> **MomEdu** - Mother's education (numeric: 0 - none,  1 - primary education (4th grade), 2 – 5th to 9th grade, 3 – secondary education or 4 – higher education)  \n",
    "> **DadEdu** - Father's education (numeric: 0 - none,  1 - primary education (4th grade), 2 – 5th to 9th grade, 3 – secondary education or 4 – higher education)  \n",
    "> **MomJob** - Mother's job (nominal: \"Teacher\", \"HealthCare\", \"CivilService\", \"AtHome\" or \"Other\")  \n",
    "> **DadJob** - Father's job (nominal: \"teacher\", \"health\" care related, civil \"services\" (e.g. administrative or police), \"at_home\" or \"other\")  \n",
    "> **TravelTime** - Home to School travel time (numeric: 1 - <15 min., 2 - 15 to 30 min., 3 - 30 min. to 1 hour, or 4 - >1 hour)  \n",
    "> **StudyTime** - Weekly study time (numeric: 1 - <2 hours, 2 - 2 to 5 hours, 3 - 5 to 10 hours, or 4 - >10 hours)  \n",
    "> **PastFails** - Number of past class failures (numeric: n if 1<=n<3, else 4)  \n",
    "> **SchoolSup** - Extra educational support (binary: yes or no)  \n",
    "> **FamilySup** - Family educational support (binary: yes or no)  \n",
    "> **PaidSup** - Extra paid classes for the course (binary: yes or no)  \n",
    "> **Activities** - Extra-curricular activities (binary: yes or no)  \n",
    "> **Internet** - Internet access at home (binary: yes or no)  \n",
    "> **Romantic** - In a romantic relationship (binary: yes or no)  \n",
    "> **FamilyRel** - Quality of family relationships (numeric: from 1 - very bad to 5 - excellent)  \n",
    "> **FreeTime** - Free time after school (numeric: from 1 - very low to 5 - very high)  \n",
    "> **GoingOut** - Going out with friends (numeric: from 1 - very low to 5 - very high)  \n",
    "> **Health** - Current health status (numeric: from 1 - very bad to 5 - very good)  \n",
    "> **Absences** - Number of school absences (numeric)  \n",
    "> **T1** - Term 1 grade (numeric: from 0 to 20)  \n",
    "> **T2** - Term 2 grade (numeric: from 0 to 20)  \n",
    "> **T3** - Term 3 grade (numeric: from 0 to 20)  \n"
   ]
  },
  {
   "cell_type": "markdown",
   "id": "employed-invasion",
   "metadata": {},
   "source": [
    "Quick look at the info and head of the datasets to check for any null values as well as the type of variables present"
   ]
  },
  {
   "cell_type": "code",
   "execution_count": 3,
   "id": "forced-quest",
   "metadata": {},
   "outputs": [
    {
     "name": "stdout",
     "output_type": "stream",
     "text": [
      "<class 'pandas.core.frame.DataFrame'>\n",
      "RangeIndex: 649 entries, 0 to 648\n",
      "Data columns (total 25 columns):\n",
      " #   Column      Non-Null Count  Dtype \n",
      "---  ------      --------------  ----- \n",
      " 0   School      649 non-null    object\n",
      " 1   Gender      649 non-null    object\n",
      " 2   Age         649 non-null    int64 \n",
      " 3   Residence   649 non-null    object\n",
      " 4   MomEdu      649 non-null    int64 \n",
      " 5   DadEdu      649 non-null    int64 \n",
      " 6   MomJob      649 non-null    object\n",
      " 7   DadJob      649 non-null    object\n",
      " 8   TravelTime  649 non-null    int64 \n",
      " 9   StudyTime   649 non-null    int64 \n",
      " 10  PastFails   649 non-null    int64 \n",
      " 11  SchoolSup   649 non-null    object\n",
      " 12  FamilySup   649 non-null    object\n",
      " 13  PaidSup     649 non-null    object\n",
      " 14  Activities  649 non-null    object\n",
      " 15  Internet    649 non-null    object\n",
      " 16  Romantic    649 non-null    object\n",
      " 17  FamilyRel   649 non-null    int64 \n",
      " 18  FreeTime    649 non-null    int64 \n",
      " 19  GoingOut    649 non-null    int64 \n",
      " 20  Health      649 non-null    int64 \n",
      " 21  Absences    649 non-null    int64 \n",
      " 22  T1          649 non-null    int64 \n",
      " 23  T2          649 non-null    int64 \n",
      " 24  T3          649 non-null    int64 \n",
      "dtypes: int64(14), object(11)\n",
      "memory usage: 126.9+ KB\n"
     ]
    }
   ],
   "source": [
    "performance_lang.info()"
   ]
  },
  {
   "cell_type": "code",
   "execution_count": 4,
   "id": "expired-dream",
   "metadata": {},
   "outputs": [
    {
     "name": "stdout",
     "output_type": "stream",
     "text": [
      "<class 'pandas.core.frame.DataFrame'>\n",
      "RangeIndex: 395 entries, 0 to 394\n",
      "Data columns (total 25 columns):\n",
      " #   Column      Non-Null Count  Dtype \n",
      "---  ------      --------------  ----- \n",
      " 0   School      395 non-null    object\n",
      " 1   Gender      395 non-null    object\n",
      " 2   Age         395 non-null    int64 \n",
      " 3   Residence   395 non-null    object\n",
      " 4   MomEdu      395 non-null    int64 \n",
      " 5   DadEdu      395 non-null    int64 \n",
      " 6   MomJob      395 non-null    object\n",
      " 7   DadJob      395 non-null    object\n",
      " 8   TravelTime  395 non-null    int64 \n",
      " 9   StudyTime   395 non-null    int64 \n",
      " 10  PastFails   395 non-null    int64 \n",
      " 11  SchoolSup   395 non-null    object\n",
      " 12  FamilySup   395 non-null    object\n",
      " 13  PaidSup     395 non-null    object\n",
      " 14  Activities  395 non-null    object\n",
      " 15  Internet    395 non-null    object\n",
      " 16  Romantic    395 non-null    object\n",
      " 17  FamilyRel   395 non-null    int64 \n",
      " 18  FreeTime    395 non-null    int64 \n",
      " 19  GoingOut    395 non-null    int64 \n",
      " 20  Health      395 non-null    int64 \n",
      " 21  Absences    395 non-null    int64 \n",
      " 22  T1          395 non-null    int64 \n",
      " 23  T2          395 non-null    int64 \n",
      " 24  T3          395 non-null    int64 \n",
      "dtypes: int64(14), object(11)\n",
      "memory usage: 77.3+ KB\n"
     ]
    }
   ],
   "source": [
    "performance_math.info()\n",
    "\n",
    "# There are differences in the number of entries for both datasets"
   ]
  },
  {
   "cell_type": "code",
   "execution_count": 5,
   "id": "passing-storage",
   "metadata": {},
   "outputs": [
    {
     "data": {
      "text/html": [
       "<div>\n",
       "<style scoped>\n",
       "    .dataframe tbody tr th:only-of-type {\n",
       "        vertical-align: middle;\n",
       "    }\n",
       "\n",
       "    .dataframe tbody tr th {\n",
       "        vertical-align: top;\n",
       "    }\n",
       "\n",
       "    .dataframe thead th {\n",
       "        text-align: right;\n",
       "    }\n",
       "</style>\n",
       "<table border=\"1\" class=\"dataframe\">\n",
       "  <thead>\n",
       "    <tr style=\"text-align: right;\">\n",
       "      <th></th>\n",
       "      <th>School</th>\n",
       "      <th>Gender</th>\n",
       "      <th>Age</th>\n",
       "      <th>Residence</th>\n",
       "      <th>MomEdu</th>\n",
       "      <th>DadEdu</th>\n",
       "      <th>MomJob</th>\n",
       "      <th>DadJob</th>\n",
       "      <th>TravelTime</th>\n",
       "      <th>StudyTime</th>\n",
       "      <th>...</th>\n",
       "      <th>Internet</th>\n",
       "      <th>Romantic</th>\n",
       "      <th>FamilyRel</th>\n",
       "      <th>FreeTime</th>\n",
       "      <th>GoingOut</th>\n",
       "      <th>Health</th>\n",
       "      <th>Absences</th>\n",
       "      <th>T1</th>\n",
       "      <th>T2</th>\n",
       "      <th>T3</th>\n",
       "    </tr>\n",
       "  </thead>\n",
       "  <tbody>\n",
       "    <tr>\n",
       "      <th>0</th>\n",
       "      <td>SchoolA</td>\n",
       "      <td>Female</td>\n",
       "      <td>18</td>\n",
       "      <td>Urban</td>\n",
       "      <td>4</td>\n",
       "      <td>4</td>\n",
       "      <td>AtHome</td>\n",
       "      <td>Teacher</td>\n",
       "      <td>2</td>\n",
       "      <td>2</td>\n",
       "      <td>...</td>\n",
       "      <td>No</td>\n",
       "      <td>No</td>\n",
       "      <td>4</td>\n",
       "      <td>3</td>\n",
       "      <td>4</td>\n",
       "      <td>3</td>\n",
       "      <td>4</td>\n",
       "      <td>0</td>\n",
       "      <td>11</td>\n",
       "      <td>11</td>\n",
       "    </tr>\n",
       "    <tr>\n",
       "      <th>1</th>\n",
       "      <td>SchoolA</td>\n",
       "      <td>Female</td>\n",
       "      <td>17</td>\n",
       "      <td>Urban</td>\n",
       "      <td>1</td>\n",
       "      <td>1</td>\n",
       "      <td>AtHome</td>\n",
       "      <td>Other</td>\n",
       "      <td>1</td>\n",
       "      <td>2</td>\n",
       "      <td>...</td>\n",
       "      <td>Yes</td>\n",
       "      <td>No</td>\n",
       "      <td>5</td>\n",
       "      <td>3</td>\n",
       "      <td>3</td>\n",
       "      <td>3</td>\n",
       "      <td>2</td>\n",
       "      <td>9</td>\n",
       "      <td>11</td>\n",
       "      <td>11</td>\n",
       "    </tr>\n",
       "    <tr>\n",
       "      <th>2</th>\n",
       "      <td>SchoolA</td>\n",
       "      <td>Female</td>\n",
       "      <td>15</td>\n",
       "      <td>Urban</td>\n",
       "      <td>1</td>\n",
       "      <td>1</td>\n",
       "      <td>AtHome</td>\n",
       "      <td>Other</td>\n",
       "      <td>1</td>\n",
       "      <td>2</td>\n",
       "      <td>...</td>\n",
       "      <td>Yes</td>\n",
       "      <td>No</td>\n",
       "      <td>4</td>\n",
       "      <td>3</td>\n",
       "      <td>2</td>\n",
       "      <td>3</td>\n",
       "      <td>6</td>\n",
       "      <td>12</td>\n",
       "      <td>13</td>\n",
       "      <td>12</td>\n",
       "    </tr>\n",
       "    <tr>\n",
       "      <th>3</th>\n",
       "      <td>SchoolA</td>\n",
       "      <td>Female</td>\n",
       "      <td>15</td>\n",
       "      <td>Urban</td>\n",
       "      <td>4</td>\n",
       "      <td>2</td>\n",
       "      <td>HealthCare</td>\n",
       "      <td>CivilService</td>\n",
       "      <td>1</td>\n",
       "      <td>3</td>\n",
       "      <td>...</td>\n",
       "      <td>Yes</td>\n",
       "      <td>Yes</td>\n",
       "      <td>3</td>\n",
       "      <td>2</td>\n",
       "      <td>2</td>\n",
       "      <td>5</td>\n",
       "      <td>0</td>\n",
       "      <td>14</td>\n",
       "      <td>14</td>\n",
       "      <td>14</td>\n",
       "    </tr>\n",
       "    <tr>\n",
       "      <th>4</th>\n",
       "      <td>SchoolA</td>\n",
       "      <td>Female</td>\n",
       "      <td>16</td>\n",
       "      <td>Urban</td>\n",
       "      <td>3</td>\n",
       "      <td>3</td>\n",
       "      <td>Other</td>\n",
       "      <td>Other</td>\n",
       "      <td>1</td>\n",
       "      <td>2</td>\n",
       "      <td>...</td>\n",
       "      <td>No</td>\n",
       "      <td>No</td>\n",
       "      <td>4</td>\n",
       "      <td>3</td>\n",
       "      <td>2</td>\n",
       "      <td>5</td>\n",
       "      <td>0</td>\n",
       "      <td>11</td>\n",
       "      <td>13</td>\n",
       "      <td>13</td>\n",
       "    </tr>\n",
       "  </tbody>\n",
       "</table>\n",
       "<p>5 rows × 25 columns</p>\n",
       "</div>"
      ],
      "text/plain": [
       "    School  Gender  Age Residence  MomEdu  DadEdu      MomJob        DadJob  \\\n",
       "0  SchoolA  Female   18     Urban       4       4      AtHome       Teacher   \n",
       "1  SchoolA  Female   17     Urban       1       1      AtHome         Other   \n",
       "2  SchoolA  Female   15     Urban       1       1      AtHome         Other   \n",
       "3  SchoolA  Female   15     Urban       4       2  HealthCare  CivilService   \n",
       "4  SchoolA  Female   16     Urban       3       3       Other         Other   \n",
       "\n",
       "   TravelTime  StudyTime  ...  Internet Romantic FamilyRel FreeTime GoingOut  \\\n",
       "0           2          2  ...        No       No         4        3        4   \n",
       "1           1          2  ...       Yes       No         5        3        3   \n",
       "2           1          2  ...       Yes       No         4        3        2   \n",
       "3           1          3  ...       Yes      Yes         3        2        2   \n",
       "4           1          2  ...        No       No         4        3        2   \n",
       "\n",
       "  Health Absences  T1  T2  T3  \n",
       "0      3        4   0  11  11  \n",
       "1      3        2   9  11  11  \n",
       "2      3        6  12  13  12  \n",
       "3      5        0  14  14  14  \n",
       "4      5        0  11  13  13  \n",
       "\n",
       "[5 rows x 25 columns]"
      ]
     },
     "execution_count": 5,
     "metadata": {},
     "output_type": "execute_result"
    }
   ],
   "source": [
    "performance_lang.head()"
   ]
  },
  {
   "cell_type": "code",
   "execution_count": 6,
   "id": "popular-restoration",
   "metadata": {},
   "outputs": [
    {
     "data": {
      "text/html": [
       "<div>\n",
       "<style scoped>\n",
       "    .dataframe tbody tr th:only-of-type {\n",
       "        vertical-align: middle;\n",
       "    }\n",
       "\n",
       "    .dataframe tbody tr th {\n",
       "        vertical-align: top;\n",
       "    }\n",
       "\n",
       "    .dataframe thead th {\n",
       "        text-align: right;\n",
       "    }\n",
       "</style>\n",
       "<table border=\"1\" class=\"dataframe\">\n",
       "  <thead>\n",
       "    <tr style=\"text-align: right;\">\n",
       "      <th></th>\n",
       "      <th>School</th>\n",
       "      <th>Gender</th>\n",
       "      <th>Age</th>\n",
       "      <th>Residence</th>\n",
       "      <th>MomEdu</th>\n",
       "      <th>DadEdu</th>\n",
       "      <th>MomJob</th>\n",
       "      <th>DadJob</th>\n",
       "      <th>TravelTime</th>\n",
       "      <th>StudyTime</th>\n",
       "      <th>...</th>\n",
       "      <th>Internet</th>\n",
       "      <th>Romantic</th>\n",
       "      <th>FamilyRel</th>\n",
       "      <th>FreeTime</th>\n",
       "      <th>GoingOut</th>\n",
       "      <th>Health</th>\n",
       "      <th>Absences</th>\n",
       "      <th>T1</th>\n",
       "      <th>T2</th>\n",
       "      <th>T3</th>\n",
       "    </tr>\n",
       "  </thead>\n",
       "  <tbody>\n",
       "    <tr>\n",
       "      <th>0</th>\n",
       "      <td>SchoolA</td>\n",
       "      <td>Female</td>\n",
       "      <td>18</td>\n",
       "      <td>Urban</td>\n",
       "      <td>4</td>\n",
       "      <td>4</td>\n",
       "      <td>AtHome</td>\n",
       "      <td>Teacher</td>\n",
       "      <td>2</td>\n",
       "      <td>2</td>\n",
       "      <td>...</td>\n",
       "      <td>No</td>\n",
       "      <td>No</td>\n",
       "      <td>4</td>\n",
       "      <td>3</td>\n",
       "      <td>4</td>\n",
       "      <td>3</td>\n",
       "      <td>6</td>\n",
       "      <td>5</td>\n",
       "      <td>6</td>\n",
       "      <td>6</td>\n",
       "    </tr>\n",
       "    <tr>\n",
       "      <th>1</th>\n",
       "      <td>SchoolA</td>\n",
       "      <td>Female</td>\n",
       "      <td>17</td>\n",
       "      <td>Urban</td>\n",
       "      <td>1</td>\n",
       "      <td>1</td>\n",
       "      <td>AtHome</td>\n",
       "      <td>Other</td>\n",
       "      <td>1</td>\n",
       "      <td>2</td>\n",
       "      <td>...</td>\n",
       "      <td>Yes</td>\n",
       "      <td>No</td>\n",
       "      <td>5</td>\n",
       "      <td>3</td>\n",
       "      <td>3</td>\n",
       "      <td>3</td>\n",
       "      <td>4</td>\n",
       "      <td>5</td>\n",
       "      <td>5</td>\n",
       "      <td>6</td>\n",
       "    </tr>\n",
       "    <tr>\n",
       "      <th>2</th>\n",
       "      <td>SchoolA</td>\n",
       "      <td>Female</td>\n",
       "      <td>15</td>\n",
       "      <td>Urban</td>\n",
       "      <td>1</td>\n",
       "      <td>1</td>\n",
       "      <td>AtHome</td>\n",
       "      <td>Other</td>\n",
       "      <td>1</td>\n",
       "      <td>2</td>\n",
       "      <td>...</td>\n",
       "      <td>Yes</td>\n",
       "      <td>No</td>\n",
       "      <td>4</td>\n",
       "      <td>3</td>\n",
       "      <td>2</td>\n",
       "      <td>3</td>\n",
       "      <td>10</td>\n",
       "      <td>7</td>\n",
       "      <td>8</td>\n",
       "      <td>10</td>\n",
       "    </tr>\n",
       "    <tr>\n",
       "      <th>3</th>\n",
       "      <td>SchoolA</td>\n",
       "      <td>Female</td>\n",
       "      <td>15</td>\n",
       "      <td>Urban</td>\n",
       "      <td>4</td>\n",
       "      <td>2</td>\n",
       "      <td>HealthCare</td>\n",
       "      <td>CivilService</td>\n",
       "      <td>1</td>\n",
       "      <td>3</td>\n",
       "      <td>...</td>\n",
       "      <td>Yes</td>\n",
       "      <td>Yes</td>\n",
       "      <td>3</td>\n",
       "      <td>2</td>\n",
       "      <td>2</td>\n",
       "      <td>5</td>\n",
       "      <td>2</td>\n",
       "      <td>15</td>\n",
       "      <td>14</td>\n",
       "      <td>15</td>\n",
       "    </tr>\n",
       "    <tr>\n",
       "      <th>4</th>\n",
       "      <td>SchoolA</td>\n",
       "      <td>Female</td>\n",
       "      <td>16</td>\n",
       "      <td>Urban</td>\n",
       "      <td>3</td>\n",
       "      <td>3</td>\n",
       "      <td>Other</td>\n",
       "      <td>Other</td>\n",
       "      <td>1</td>\n",
       "      <td>2</td>\n",
       "      <td>...</td>\n",
       "      <td>No</td>\n",
       "      <td>No</td>\n",
       "      <td>4</td>\n",
       "      <td>3</td>\n",
       "      <td>2</td>\n",
       "      <td>5</td>\n",
       "      <td>4</td>\n",
       "      <td>6</td>\n",
       "      <td>10</td>\n",
       "      <td>10</td>\n",
       "    </tr>\n",
       "  </tbody>\n",
       "</table>\n",
       "<p>5 rows × 25 columns</p>\n",
       "</div>"
      ],
      "text/plain": [
       "    School  Gender  Age Residence  MomEdu  DadEdu      MomJob        DadJob  \\\n",
       "0  SchoolA  Female   18     Urban       4       4      AtHome       Teacher   \n",
       "1  SchoolA  Female   17     Urban       1       1      AtHome         Other   \n",
       "2  SchoolA  Female   15     Urban       1       1      AtHome         Other   \n",
       "3  SchoolA  Female   15     Urban       4       2  HealthCare  CivilService   \n",
       "4  SchoolA  Female   16     Urban       3       3       Other         Other   \n",
       "\n",
       "   TravelTime  StudyTime  ...  Internet Romantic FamilyRel FreeTime GoingOut  \\\n",
       "0           2          2  ...        No       No         4        3        4   \n",
       "1           1          2  ...       Yes       No         5        3        3   \n",
       "2           1          2  ...       Yes       No         4        3        2   \n",
       "3           1          3  ...       Yes      Yes         3        2        2   \n",
       "4           1          2  ...        No       No         4        3        2   \n",
       "\n",
       "  Health Absences  T1  T2  T3  \n",
       "0      3        6   5   6   6  \n",
       "1      3        4   5   5   6  \n",
       "2      3       10   7   8  10  \n",
       "3      5        2  15  14  15  \n",
       "4      5        4   6  10  10  \n",
       "\n",
       "[5 rows x 25 columns]"
      ]
     },
     "execution_count": 6,
     "metadata": {},
     "output_type": "execute_result"
    }
   ],
   "source": [
    "performance_math.head()"
   ]
  },
  {
   "cell_type": "code",
   "execution_count": 7,
   "id": "dangerous-conversation",
   "metadata": {},
   "outputs": [
    {
     "data": {
      "text/plain": [
       "SchoolA    423\n",
       "SchoolB    226\n",
       "Name: School, dtype: int64"
      ]
     },
     "execution_count": 7,
     "metadata": {},
     "output_type": "execute_result"
    }
   ],
   "source": [
    "performance_lang['School'].value_counts()"
   ]
  },
  {
   "cell_type": "code",
   "execution_count": 8,
   "id": "comfortable-vintage",
   "metadata": {},
   "outputs": [
    {
     "data": {
      "text/plain": [
       "SchoolA    349\n",
       "SchoolB     46\n",
       "Name: School, dtype: int64"
      ]
     },
     "execution_count": 8,
     "metadata": {},
     "output_type": "execute_result"
    }
   ],
   "source": [
    "performance_math['School'].value_counts()"
   ]
  },
  {
   "cell_type": "markdown",
   "id": "substantial-sentence",
   "metadata": {},
   "source": [
    "Extract common students between the 2 datasets by comparing their attributes except marks"
   ]
  },
  {
   "cell_type": "code",
   "execution_count": 9,
   "id": "bright-parker",
   "metadata": {},
   "outputs": [],
   "source": [
    "# Create a list of conditions for me to merge my data\n",
    "conditions = []\n",
    "\n",
    "for i in performance_math:\n",
    "    if i == \"T1\":\n",
    "        pass\n",
    "    elif i == \"T2\":\n",
    "        pass\n",
    "    elif i == \"T3\":\n",
    "        pass\n",
    "    else:\n",
    "        conditions.append(i)"
   ]
  },
  {
   "cell_type": "code",
   "execution_count": 10,
   "id": "incredible-advice",
   "metadata": {},
   "outputs": [],
   "source": [
    "commonstudents = pd.merge(performance_math, performance_lang, on = conditions)"
   ]
  },
  {
   "cell_type": "code",
   "execution_count": 11,
   "id": "respective-version",
   "metadata": {
    "scrolled": true
   },
   "outputs": [],
   "source": [
    "# Rename the columns\n",
    "commonstudents = commonstudents.rename(columns = {\"T1_x\": \"T1_Math\", \"T2_x\": \"T2_Math\", \"T3_x\": \"T3_Math\", \"T1_y\": \"T1_Lang\",\"T2_y\": \"T2_Lang\", \"T3_y\": \"T3_Lang\"})"
   ]
  },
  {
   "cell_type": "code",
   "execution_count": 12,
   "id": "parental-federation",
   "metadata": {},
   "outputs": [
    {
     "data": {
      "text/plain": [
       "(39, 28)"
      ]
     },
     "execution_count": 12,
     "metadata": {},
     "output_type": "execute_result"
    }
   ],
   "source": [
    "# Quick look at the shape to see how many students there are, this data may be useful for us later\n",
    "commonstudents.shape"
   ]
  },
  {
   "cell_type": "markdown",
   "id": "mature-thunder",
   "metadata": {},
   "source": [
    "`QUESTION 1`: Does the **family background**, **family relationship** and **family support** influence a student's **performance**?"
   ]
  },
  {
   "cell_type": "markdown",
   "id": "classical-indie",
   "metadata": {},
   "source": [
    "A **student's performance** can be judged based on either their total marks for all 3 terms or their average marks over the 3 terms.  \n",
    "Because average = total marks/3, the boxplots will look the same for both variables. So for simplicity, average is chosen for this analysis.  \n",
    "\n",
    "\n",
    "There is no variable named family background so we will define one's family background using other variables available.  \n",
    "For this dataset, family background will be split into different parts.   \n",
    "Family background includes \n",
    "- `Family education background` where it is `\"MomEdu + DadEdu\"`\n",
    "- `Family job background` where we analyse the different jobs that the parents hold\n",
    "- `Residence`\n",
    "\n",
    "**Family background, family relationship** and **family support** are all categorical variables."
   ]
  },
  {
   "cell_type": "code",
   "execution_count": 13,
   "id": "continuous-house",
   "metadata": {},
   "outputs": [],
   "source": [
    "# Prepare the data required for average\n",
    "average_math = pd.DataFrame((performance_math.T1 + performance_math.T2 + performance_math.T3) / 3, columns = ['MathAverage'])\n",
    "average_lang = pd.DataFrame((performance_lang.T1 + performance_lang.T2 + performance_lang.T3) / 3, columns = ['LangAverage'])"
   ]
  },
  {
   "cell_type": "markdown",
   "id": "greatest-denmark",
   "metadata": {},
   "source": [
    "# Family Background VS Student's Performance"
   ]
  },
  {
   "cell_type": "code",
   "execution_count": 14,
   "id": "corresponding-mention",
   "metadata": {},
   "outputs": [],
   "source": [
    "# Prepare the relevant data required for family education background analysis\n",
    "performance_lang['FamilyEduBG'] = performance_lang['MomEdu'] + performance_lang['DadEdu']\n",
    "performance_math['FamilyEduBG'] = performance_math['MomEdu'] + performance_math['DadEdu']\n",
    "FEBG_math = pd.DataFrame(performance_math['FamilyEduBG'])\n",
    "FEBG_lang = pd.DataFrame(performance_lang['FamilyEduBG'])"
   ]
  },
  {
   "cell_type": "markdown",
   "id": "changing-ballot",
   "metadata": {},
   "source": [
    "**`Family Education Background VS Math Performance`**"
   ]
  },
  {
   "cell_type": "code",
   "execution_count": 15,
   "id": "radio-bubble",
   "metadata": {},
   "outputs": [
    {
     "data": {
      "text/plain": [
       "<AxesSubplot:xlabel='MathAverage', ylabel='FamilyEduBG'>"
      ]
     },
     "execution_count": 15,
     "metadata": {},
     "output_type": "execute_result"
    },
    {
     "data": {
      "image/png": "[encoded data removed]",
      "text/plain": [
       "<Figure size 864x720 with 1 Axes>"
      ]
     },
     "metadata": {},
     "output_type": "display_data"
    }
   ],
   "source": [
    "# Plot the boxplots for FamilyEduBG and Average to try and identify any relationship\n",
    "FEBGmarks_math = pd.concat([FEBG_math, average_math], axis = 1)\n",
    "\n",
    "f = plt.figure(figsize = (12,10))\n",
    "sb.boxplot(x = 'MathAverage', y = 'FamilyEduBG', data = FEBGmarks_math, orient = 'h')"
   ]
  },
  {
   "cell_type": "markdown",
   "id": "other-salmon",
   "metadata": {},
   "source": [
    "From FamilyEduBG = 2 to FamilyEduBG = 8, as the number increase we see that the students on average either do better or perform similarly.  \n",
    "But there is a `weird behaviour` for FamilyEduBG = 1. We can further analyse the general behaviour by looking at the number of datapoints available for each FamilyEduBG categories. "
   ]
  },
  {
   "cell_type": "code",
   "execution_count": 16,
   "id": "abandoned-pitch",
   "metadata": {
    "scrolled": true
   },
   "outputs": [
    {
     "data": {
      "text/plain": [
       "FamilyEduBG\n",
       "1               2\n",
       "2              39\n",
       "3              43\n",
       "5              47\n",
       "7              58\n",
       "6              64\n",
       "8              70\n",
       "4              72\n",
       "dtype: int64"
      ]
     },
     "execution_count": 16,
     "metadata": {},
     "output_type": "execute_result"
    }
   ],
   "source": [
    "FEBG_math.value_counts(ascending = True)"
   ]
  },
  {
   "cell_type": "markdown",
   "id": "concrete-bandwidth",
   "metadata": {},
   "source": [
    "Indeed, FamilyEduBG = 1 only has 2 datapoints which are insufficient to make any judgment. We can ignore that category for this analysis.   \n"
   ]
  },
  {
   "cell_type": "code",
   "execution_count": 17,
   "id": "inside-intervention",
   "metadata": {
    "scrolled": false
   },
   "outputs": [],
   "source": [
    "# We remove datapoints that has FamilyBG = 1 and plot the boxplots again to observe any relationship\n",
    "FEBGmarks_math = FEBGmarks_math[FEBGmarks_math.FamilyEduBG != 1]"
   ]
  },
  {
   "cell_type": "markdown",
   "id": "young-necessity",
   "metadata": {},
   "source": [
    "**`Family Education Background VS Language Performance`**"
   ]
  },
  {
   "cell_type": "code",
   "execution_count": 18,
   "id": "stainless-breed",
   "metadata": {},
   "outputs": [
    {
     "data": {
      "text/plain": [
       "0      1\n",
       "1      7\n",
       "7     67\n",
       "5     77\n",
       "3     88\n",
       "6     89\n",
       "2     95\n",
       "8     95\n",
       "4    130\n",
       "Name: FamilyEduBG, dtype: int64"
      ]
     },
     "execution_count": 18,
     "metadata": {},
     "output_type": "execute_result"
    }
   ],
   "source": [
    "# Before any boxplot, we remove FamilyEduBG categories that has insufficient datapoints for comparison\n",
    "performance_lang['FamilyEduBG'].value_counts(ascending = True)"
   ]
  },
  {
   "cell_type": "code",
   "execution_count": 19,
   "id": "manufactured-luther",
   "metadata": {
    "scrolled": false
   },
   "outputs": [],
   "source": [
    "# We remove datapoints where FamilyBG = 0 or 1 since they only have 1 and 7 datapoints respectively\n",
    "FEBGmarks_lang = pd.concat([FEBG_lang, average_lang], axis = 1)\n",
    "FEBGmarks_lang = FEBGmarks_lang[FEBGmarks_lang['FamilyEduBG'] != 0] \n",
    "FEBGmarks_lang = FEBGmarks_lang[FEBGmarks_lang['FamilyEduBG'] != 1] "
   ]
  },
  {
   "cell_type": "code",
   "execution_count": 20,
   "id": "transsexual-entrepreneur",
   "metadata": {
    "scrolled": false
   },
   "outputs": [
    {
     "data": {
      "text/plain": [
       "<AxesSubplot:xlabel='MathAverage', ylabel='FamilyEduBG'>"
      ]
     },
     "execution_count": 20,
     "metadata": {},
     "output_type": "execute_result"
    },
    {
     "data": {
      "image/png": "[encoded data removed]",
      "text/plain": [
       "<Figure size 864x1440 with 2 Axes>"
      ]
     },
     "metadata": {},
     "output_type": "display_data"
    }
   ],
   "source": [
    "# After we have cleaned the dataset, we look at the boxplots together to draw conclusions\n",
    "f,axes = plt.subplots(2, 1, figsize = (12,20))\n",
    "sb.boxplot(x = 'LangAverage', y = 'FamilyEduBG', data = FEBGmarks_lang, orient = 'h', ax = axes[0])\n",
    "sb.boxplot(x = 'MathAverage', y = 'FamilyEduBG', data = FEBGmarks_math, orient = 'h', ax = axes[1])"
   ]
  },
  {
   "cell_type": "code",
   "execution_count": 21,
   "id": "sealed-aircraft",
   "metadata": {},
   "outputs": [
    {
     "name": "stdout",
     "output_type": "stream",
     "text": [
      "Math mean for FamilyEdu(2): 9.08\n",
      "Math mean for FamilyEdu(3): 9.69\n",
      "Math mean for FamilyEdu(4): 10.16\n",
      "Math mean for FamilyEdu(5): 10.62\n",
      "Math mean for FamilyEdu(6): 11.2\n",
      "Math mean for FamilyEdu(7): 11.25\n",
      "Math mean for FamilyEdu(8): 11.79\n"
     ]
    }
   ],
   "source": [
    "# Print only the math mean value for each category\n",
    "int_arr = [2,3,4,5,6,7,8]\n",
    "\n",
    "for i in int_arr:\n",
    "    print(f'Math mean for FamilyEdu({i}):', \n",
    "          FEBGmarks_math[FEBGmarks_math.FamilyEduBG == i].MathAverage.mean().round(2))"
   ]
  },
  {
   "cell_type": "code",
   "execution_count": 22,
   "id": "fuzzy-helmet",
   "metadata": {},
   "outputs": [
    {
     "name": "stdout",
     "output_type": "stream",
     "text": [
      "Lang mean for FamilyEdu(2): 10.49\n",
      "Lang mean for FamilyEdu(3): 10.92\n",
      "Lang mean for FamilyEdu(4): 11.29\n",
      "Lang mean for FamilyEdu(5): 11.57\n",
      "Lang mean for FamilyEdu(6): 12.14\n",
      "Lang mean for FamilyEdu(7): 12.56\n",
      "Lang mean for FamilyEdu(8): 12.81\n"
     ]
    }
   ],
   "source": [
    "# Print only the language mean value for each category\n",
    "int_arr = [2,3,4,5,6,7,8]\n",
    "\n",
    "for i in int_arr:\n",
    "    print(f'Lang mean for FamilyEdu({i}):', \n",
    "          FEBGmarks_lang[FEBGmarks_lang.FamilyEduBG == i].LangAverage.mean().round(2))"
   ]
  },
  {
   "cell_type": "markdown",
   "id": "monthly-jefferson",
   "metadata": {},
   "source": [
    "From the 2 box plots we can see that the general trend is that as the FamilyBG gets better, the boxes shift to the right which suggest that an improvement in the student's performance. \n",
    "We also can see that the mean marks for each FamilyEduBG category increase as the category increase.\n",
    "\n",
    "Hence, I conclude that `family education background` positively influence a student's performance."
   ]
  },
  {
   "cell_type": "markdown",
   "id": "improved-jason",
   "metadata": {},
   "source": [
    "**`Family Job Background VS Student's Performance`**"
   ]
  },
  {
   "cell_type": "code",
   "execution_count": 23,
   "id": "solid-thumbnail",
   "metadata": {},
   "outputs": [],
   "source": [
    "parentsjob_math = pd.DataFrame(performance_math[['MomJob', 'DadJob']])\n",
    "parentsjob_lang = pd.DataFrame(performance_lang[['MomJob', 'DadJob']])"
   ]
  },
  {
   "cell_type": "markdown",
   "id": "architectural-oxygen",
   "metadata": {},
   "source": [
    "We look at the value counts for jobs to identify outliers."
   ]
  },
  {
   "cell_type": "code",
   "execution_count": 24,
   "id": "directed-soundtrack",
   "metadata": {},
   "outputs": [
    {
     "data": {
      "text/html": [
       "<div>\n",
       "<style scoped>\n",
       "    .dataframe tbody tr th:only-of-type {\n",
       "        vertical-align: middle;\n",
       "    }\n",
       "\n",
       "    .dataframe tbody tr th {\n",
       "        vertical-align: top;\n",
       "    }\n",
       "\n",
       "    .dataframe thead th {\n",
       "        text-align: right;\n",
       "    }\n",
       "</style>\n",
       "<table border=\"1\" class=\"dataframe\">\n",
       "  <thead>\n",
       "    <tr style=\"text-align: right;\">\n",
       "      <th></th>\n",
       "      <th>DadJob</th>\n",
       "      <th>MomJob</th>\n",
       "      <th>DadJob</th>\n",
       "      <th>MomJob</th>\n",
       "    </tr>\n",
       "  </thead>\n",
       "  <tbody>\n",
       "    <tr>\n",
       "      <th>Other</th>\n",
       "      <td>217</td>\n",
       "      <td>141</td>\n",
       "      <td>367</td>\n",
       "      <td>258</td>\n",
       "    </tr>\n",
       "    <tr>\n",
       "      <th>CivilService</th>\n",
       "      <td>111</td>\n",
       "      <td>103</td>\n",
       "      <td>181</td>\n",
       "      <td>136</td>\n",
       "    </tr>\n",
       "    <tr>\n",
       "      <th>Teacher</th>\n",
       "      <td>29</td>\n",
       "      <td>58</td>\n",
       "      <td>36</td>\n",
       "      <td>72</td>\n",
       "    </tr>\n",
       "    <tr>\n",
       "      <th>AtHome</th>\n",
       "      <td>20</td>\n",
       "      <td>59</td>\n",
       "      <td>42</td>\n",
       "      <td>135</td>\n",
       "    </tr>\n",
       "    <tr>\n",
       "      <th>HealthCare</th>\n",
       "      <td>18</td>\n",
       "      <td>34</td>\n",
       "      <td>23</td>\n",
       "      <td>48</td>\n",
       "    </tr>\n",
       "  </tbody>\n",
       "</table>\n",
       "</div>"
      ],
      "text/plain": [
       "              DadJob  MomJob  DadJob  MomJob\n",
       "Other            217     141     367     258\n",
       "CivilService     111     103     181     136\n",
       "Teacher           29      58      36      72\n",
       "AtHome            20      59      42     135\n",
       "HealthCare        18      34      23      48"
      ]
     },
     "execution_count": 24,
     "metadata": {},
     "output_type": "execute_result"
    }
   ],
   "source": [
    "valuecounts = pd.concat([parentsjob_math.DadJob.value_counts(), parentsjob_math.MomJob.value_counts(), parentsjob_lang.DadJob.value_counts(), parentsjob_lang.MomJob.value_counts()], axis = 1)\n",
    "valuecounts"
   ]
  },
  {
   "cell_type": "code",
   "execution_count": 25,
   "id": "acute-survival",
   "metadata": {},
   "outputs": [],
   "source": [
    "parentsjobmarks_math = pd.concat([parentsjob_math, average_math], axis = 1)\n",
    "parentsjobmarks_lang = pd.concat([parentsjob_lang, average_lang], axis = 1)"
   ]
  },
  {
   "cell_type": "code",
   "execution_count": 26,
   "id": "tutorial-discretion",
   "metadata": {
    "scrolled": false
   },
   "outputs": [
    {
     "data": {
      "text/plain": [
       "<AxesSubplot:xlabel='LangAverage', ylabel='MomJob'>"
      ]
     },
     "execution_count": 26,
     "metadata": {},
     "output_type": "execute_result"
    },
    {
     "data": {
      "image/png": "[encoded data removed]",
      "text/plain": [
       "<Figure size 864x576 with 2 Axes>"
      ]
     },
     "metadata": {},
     "output_type": "display_data"
    }
   ],
   "source": [
    "f, axes = plt.subplots(2,1,figsize = (12,8))\n",
    "sb.boxplot(x = 'MathAverage', y = 'MomJob', data = parentsjobmarks_math, orient = 'h', ax = axes[0])\n",
    "sb.boxplot(x = 'LangAverage', y = 'MomJob', data = parentsjobmarks_lang, orient = 'h', ax = axes[1])"
   ]
  },
  {
   "cell_type": "code",
   "execution_count": 27,
   "id": "virgin-sample",
   "metadata": {
    "scrolled": false
   },
   "outputs": [
    {
     "data": {
      "text/plain": [
       "<AxesSubplot:xlabel='LangAverage', ylabel='DadJob'>"
      ]
     },
     "execution_count": 27,
     "metadata": {},
     "output_type": "execute_result"
    },
    {
     "data": {
      "image/png": "[encoded data removed]",
      "text/plain": [
       "<Figure size 864x576 with 2 Axes>"
      ]
     },
     "metadata": {},
     "output_type": "display_data"
    }
   ],
   "source": [
    "f, axes = plt.subplots(2,1,figsize = (12,8))\n",
    "sb.boxplot(x = 'MathAverage', y = 'DadJob', data = parentsjobmarks_math, orient = 'h', ax = axes[0])\n",
    "sb.boxplot(x = 'LangAverage', y = 'DadJob', data = parentsjobmarks_lang, orient = 'h', ax = axes[1])"
   ]
  },
  {
   "cell_type": "markdown",
   "id": "studied-determination",
   "metadata": {},
   "source": [
    "By looking at the `1st Quartile, Median and 3rd Quartile`...\n",
    "\n",
    "The first plot suggest that students with mothers who work in the healthcare sectors and as teachers performed  better in both math and language.   \n",
    "\n",
    "In the second plot, we see that students with fathers who work as a teacher performed much better for both subjects. In addition, students with fathers who work in the healthcare sector also performed better in their language.  \n",
    "\n",
    "Let's look at the mean to see if the observations are similar."
   ]
  },
  {
   "cell_type": "code",
   "execution_count": 28,
   "id": "seasonal-columbus",
   "metadata": {},
   "outputs": [
    {
     "name": "stdout",
     "output_type": "stream",
     "text": [
      "--MOM'S JOB--\n",
      "Math mean for Mom's Job (Teacher): 11.27\n",
      "Language mean for Mom's Job (Teacher): 12.8\n",
      "\n",
      "Math mean for Mom's Job (Other): 10.06\n",
      "Language mean for Mom's Job (Other): 11.46\n",
      "\n",
      "Math mean for Mom's Job (CivilService): 11.21\n",
      "Language mean for Mom's Job (CivilService): 11.83\n",
      "\n",
      "Math mean for Mom's Job (HealthCare): 12.24\n",
      "Language mean for Mom's Job (HealthCare): 12.7\n",
      "\n",
      "Math mean for Mom's Job (AtHome): 9.76\n",
      "Language mean for Mom's Job (AtHome): 10.74\n",
      "\n",
      "--DAD'S JOB--\n",
      "Math mean for Dad's Job (Teacher): 12.29\n",
      "Language mean for Dad's Job (Teacher): 13.32\n",
      "\n",
      "Math mean for Dad's Job (Other): 10.39\n",
      "Language mean for Dad's Job (Other): 11.6\n",
      "\n",
      "Math mean for Dad's Job (CivilService): 10.67\n",
      "Language mean for Dad's Job (CivilService): 11.43\n",
      "\n",
      "Math mean for Dad's Job (HealthCare): 11.48\n",
      "Language mean for Dad's Job (HealthCare): 12.29\n",
      "\n",
      "Math mean for Dad's Job (AtHome): 10.82\n",
      "Language mean for Dad's Job (AtHome): 10.87\n",
      "\n"
     ]
    }
   ],
   "source": [
    "# Extract out the different occupations that are in the dataset.\n",
    "jobs = parentsjob_lang.DadJob.unique()\n",
    "\n",
    "# Print the subject mean according to their parents' jobs.\n",
    "print(\"--MOM'S JOB--\")\n",
    "for i in jobs:\n",
    "    print(f\"Math mean for Mom's Job ({i}):\", \n",
    "          parentsjobmarks_math[parentsjobmarks_math.MomJob == i].MathAverage.mean().round(2))\n",
    "    print(f\"Language mean for Mom's Job ({i}):\", \n",
    "          parentsjobmarks_lang[parentsjobmarks_lang.MomJob == i].LangAverage.mean().round(2))\n",
    "    print()\n",
    "\n",
    "print(\"--DAD'S JOB--\")\n",
    "for i in jobs:\n",
    "    print(f\"Math mean for Dad's Job ({i}):\", \n",
    "          parentsjobmarks_math[parentsjobmarks_math.DadJob == i].MathAverage.mean().round(2))\n",
    "    print(f\"Language mean for Dad's Job ({i}):\", \n",
    "          parentsjobmarks_lang[parentsjobmarks_lang.DadJob == i].LangAverage.mean().round(2))\n",
    "    print()"
   ]
  },
  {
   "cell_type": "markdown",
   "id": "settled-hardware",
   "metadata": {},
   "source": [
    "Students whose mothers are **teachers** or work in a **healthcare** sector had a high mean, **12.8 and 12.7** respectively, for language. Students whose mothers work in a **healthcare** sector had the highest mean of 12.24 for math. This suggest that students tend to `perform better` when their mothers work as **teachers** or in a **healthcare sector**.\n",
    "\n",
    "\n",
    "Students whose fathers are **teachers** had a highest mean for both **language (13.32) and math (12.29)** which suggest that they `performed better`. Students whose fathers work in the **healthcare sector** had a second highest mean for both **language (12.29) and math (11.48)**. It is `consistent` with our boxplot observations.\n",
    "\n",
    "As such, students whose **parents** work in either healthcare sector or as teachers tend to `perform better`."
   ]
  },
  {
   "cell_type": "markdown",
   "id": "communist-captain",
   "metadata": {},
   "source": [
    "**`Residence VS Student's Performance`**"
   ]
  },
  {
   "cell_type": "code",
   "execution_count": 29,
   "id": "soviet-onion",
   "metadata": {},
   "outputs": [],
   "source": [
    "residence_math = pd.DataFrame(performance_math.Residence)\n",
    "residence_lang = pd.DataFrame(performance_lang.Residence)"
   ]
  },
  {
   "cell_type": "code",
   "execution_count": 30,
   "id": "going-bobby",
   "metadata": {},
   "outputs": [
    {
     "name": "stdout",
     "output_type": "stream",
     "text": [
      "Residence\n",
      "Urban        307\n",
      "Rural         88\n",
      "dtype: int64 \n",
      "\n",
      "Residence\n",
      "Urban        452\n",
      "Rural        197\n",
      "dtype: int64\n"
     ]
    }
   ],
   "source": [
    "# Look at the value counts to identify potential outliers\n",
    "print(residence_math.value_counts(), '\\n')\n",
    "print(residence_lang.value_counts())"
   ]
  },
  {
   "cell_type": "code",
   "execution_count": 31,
   "id": "virgin-reform",
   "metadata": {},
   "outputs": [],
   "source": [
    "residencemarks_math = pd.concat([residence_math, average_math], axis = 1)\n",
    "residencemarks_lang = pd.concat([residence_lang, average_lang], axis = 1)"
   ]
  },
  {
   "cell_type": "code",
   "execution_count": 32,
   "id": "orange-mystery",
   "metadata": {},
   "outputs": [
    {
     "data": {
      "text/plain": [
       "<AxesSubplot:xlabel='LangAverage', ylabel='Residence'>"
      ]
     },
     "execution_count": 32,
     "metadata": {},
     "output_type": "execute_result"
    },
    {
     "data": {
      "image/png": "[encoded data removed]",
      "text/plain": [
       "<Figure size 864x720 with 2 Axes>"
      ]
     },
     "metadata": {},
     "output_type": "display_data"
    }
   ],
   "source": [
    "f, axes = plt.subplots(2,1,figsize = (12,10))\n",
    "sb.boxplot(x = 'MathAverage', y = 'Residence', data = residencemarks_math, orient = 'h', ax = axes[0])\n",
    "sb.boxplot(x = 'LangAverage', y = 'Residence', data = residencemarks_lang, orient = 'h', ax = axes[1])"
   ]
  },
  {
   "cell_type": "code",
   "execution_count": 33,
   "id": "legal-retailer",
   "metadata": {},
   "outputs": [
    {
     "name": "stdout",
     "output_type": "stream",
     "text": [
      "Math mean for students living in Urban: 10.89\n",
      "Math mean for students living in Rural: 9.94\n",
      "\n",
      "\n",
      "Language mean for students living in Urban: 11.94\n",
      "Language mean for students living in Rural: 10.91\n"
     ]
    }
   ],
   "source": [
    "# Print only the mean value for each category\n",
    "\n",
    "typeofresidence = residencemarks_math.Residence.unique()\n",
    "\n",
    "for i in typeofresidence:\n",
    "    print(f'Math mean for students living in {i}:',\n",
    "          residencemarks_math[residencemarks_math.Residence == i].MathAverage.mean().round(2))\n",
    "    \n",
    "print('\\n')\n",
    "for i in typeofresidence:\n",
    "    print(f'Language mean for students living in {i}:',\n",
    "          residencemarks_lang[residencemarks_lang.Residence == i].LangAverage.mean().round(2))"
   ]
  },
  {
   "cell_type": "markdown",
   "id": "center-alcohol",
   "metadata": {},
   "source": [
    "For both subjects, the mean for students living in `urban` is **slightly higher** than those living in `rural` area.\n",
    "We also see from the boxplots that the box for students living in the `urban` is **slightly more to the right** which suggest better performance. \n",
    "\n",
    "Students who live in the `urban` generally perform **slightly better** than sudents who live in the `rural`.  \n",
    "The residence the students live in does influence their performance but to a `small extent`."
   ]
  },
  {
   "cell_type": "markdown",
   "id": "tough-theater",
   "metadata": {},
   "source": [
    "In conclusion... \n",
    "\n",
    "Within family background, the more influential factors are `family education background` the `parents' occupation`. Students tend to perform better when their family education background is better. Students tend to perform better when their parents are **teachers** or they work in the **healthcare sector**.  \n",
    "\n",
    "The `type of residence` they live in does play a part in their performance as well but only to a **small extent** compared to the other factors."
   ]
  },
  {
   "cell_type": "code",
   "execution_count": null,
   "id": "amended-dragon",
   "metadata": {},
   "outputs": [],
   "source": []
  },
  {
   "cell_type": "markdown",
   "id": "smart-nevada",
   "metadata": {},
   "source": [
    "# Family Relationship VS Student's Performance"
   ]
  },
  {
   "cell_type": "code",
   "execution_count": 34,
   "id": "classical-marathon",
   "metadata": {},
   "outputs": [],
   "source": [
    "# Extract the relevant data for Family Relationship Analysis\n",
    "\n",
    "FR_math = pd.DataFrame(performance_math.FamilyRel)\n",
    "FR_lang = pd.DataFrame(performance_lang.FamilyRel)\n",
    "FRmarks_math = pd.concat([FR_math, average_math], axis = 1)\n",
    "FRmarks_lang = pd.concat([FR_lang, average_lang], axis = 1)"
   ]
  },
  {
   "cell_type": "code",
   "execution_count": 35,
   "id": "essential-ebony",
   "metadata": {},
   "outputs": [
    {
     "data": {
      "text/html": [
       "<div>\n",
       "<style scoped>\n",
       "    .dataframe tbody tr th:only-of-type {\n",
       "        vertical-align: middle;\n",
       "    }\n",
       "\n",
       "    .dataframe tbody tr th {\n",
       "        vertical-align: top;\n",
       "    }\n",
       "\n",
       "    .dataframe thead th {\n",
       "        text-align: right;\n",
       "    }\n",
       "</style>\n",
       "<table border=\"1\" class=\"dataframe\">\n",
       "  <thead>\n",
       "    <tr style=\"text-align: right;\">\n",
       "      <th></th>\n",
       "      <th>FR_Math</th>\n",
       "      <th>FR_Lang</th>\n",
       "    </tr>\n",
       "    <tr>\n",
       "      <th>FamilyRel</th>\n",
       "      <th></th>\n",
       "      <th></th>\n",
       "    </tr>\n",
       "  </thead>\n",
       "  <tbody>\n",
       "    <tr>\n",
       "      <th>4</th>\n",
       "      <td>195</td>\n",
       "      <td>317</td>\n",
       "    </tr>\n",
       "    <tr>\n",
       "      <th>5</th>\n",
       "      <td>106</td>\n",
       "      <td>180</td>\n",
       "    </tr>\n",
       "    <tr>\n",
       "      <th>3</th>\n",
       "      <td>68</td>\n",
       "      <td>101</td>\n",
       "    </tr>\n",
       "    <tr>\n",
       "      <th>2</th>\n",
       "      <td>18</td>\n",
       "      <td>29</td>\n",
       "    </tr>\n",
       "    <tr>\n",
       "      <th>1</th>\n",
       "      <td>8</td>\n",
       "      <td>22</td>\n",
       "    </tr>\n",
       "  </tbody>\n",
       "</table>\n",
       "</div>"
      ],
      "text/plain": [
       "           FR_Math  FR_Lang\n",
       "FamilyRel                  \n",
       "4              195      317\n",
       "5              106      180\n",
       "3               68      101\n",
       "2               18       29\n",
       "1                8       22"
      ]
     },
     "execution_count": 35,
     "metadata": {},
     "output_type": "execute_result"
    }
   ],
   "source": [
    "# A look at the family relationship value counts for both subjects\n",
    "\n",
    "df = pd.concat([pd.DataFrame(FR_math.value_counts(), columns = ['FR_Math']), pd.DataFrame(FR_lang.value_counts(), columns = ['FR_Lang'])], axis = 1)\n",
    "df"
   ]
  },
  {
   "cell_type": "code",
   "execution_count": 36,
   "id": "intensive-grass",
   "metadata": {},
   "outputs": [
    {
     "data": {
      "text/plain": [
       "<AxesSubplot:xlabel='LangAverage', ylabel='FamilyRel'>"
      ]
     },
     "execution_count": 36,
     "metadata": {},
     "output_type": "execute_result"
    },
    {
     "data": {
      "image/png": "[encoded data removed]",
      "text/plain": [
       "<Figure size 864x1440 with 2 Axes>"
      ]
     },
     "metadata": {},
     "output_type": "display_data"
    }
   ],
   "source": [
    "# Boxplots for both math and language \n",
    "\n",
    "f, axes = plt.subplots(2, 1, figsize = (12,20))\n",
    "sb.boxplot(x = 'MathAverage', y = 'FamilyRel', data = FRmarks_math, orient = 'h', ax = axes[0])\n",
    "sb.boxplot(x = 'LangAverage', y = 'FamilyRel', data = FRmarks_lang, orient = 'h', ax = axes[1])"
   ]
  },
  {
   "cell_type": "markdown",
   "id": "identified-sympathy",
   "metadata": {},
   "source": [
    "For `math performance`, it seems like we can ignore FamilyRel = 1 because it has relatively fewer datapoints compared to the other categories. It seems like FamilyRel = 4 and 5 have a bigger spread of data compared to 2 and 3 but it could be due to the difference in the number of datapoints.   \n",
    "\n",
    "But it seems like the students' performance are roughly the same for all the categories.\n",
    "\n",
    "For `language performance`, it is similar to math performance - the performance are roughly the same for all the categories.    \n",
    "FamilyRel = 4 seem to produce better performing students because its median and 3rd quartile are higher than other categories."
   ]
  },
  {
   "cell_type": "code",
   "execution_count": 37,
   "id": "funded-entry",
   "metadata": {},
   "outputs": [
    {
     "name": "stdout",
     "output_type": "stream",
     "text": [
      "Math mean for FamilyRel(2): 10.78\n",
      "\n",
      "Math mean for FamilyRel(3): 10.39\n",
      "\n",
      "Math mean for FamilyRel(4): 10.66\n",
      "\n",
      "Math mean for FamilyRel(5): 10.86\n",
      "\n",
      "Language mean for FamilyRel(1): 10.44\n",
      "\n",
      "Language mean for FamilyRel(2): 10.78\n",
      "\n",
      "Language mean for FamilyRel(3): 11.31\n",
      "\n",
      "Language mean for FamilyRel(4): 11.99\n",
      "\n",
      "Language mean for FamilyRel(5): 11.43\n",
      "\n"
     ]
    }
   ],
   "source": [
    "# Print only the mean value for each category\n",
    "arr = [1,2,3,4,5]\n",
    "\n",
    "for i in arr:\n",
    "    if i!=1:\n",
    "        print(f\"Math mean for FamilyRel({i}):\", \n",
    "              FRmarks_math[FRmarks_math.FamilyRel == i].MathAverage.mean().round(2))\n",
    "        print()\n",
    "\n",
    "for i in arr:\n",
    "    print(f\"Language mean for FamilyRel({i}):\", \n",
    "          FRmarks_lang[FRmarks_lang.FamilyRel == i].LangAverage.mean().round(2))\n",
    "    print()"
   ]
  },
  {
   "cell_type": "markdown",
   "id": "automated-accountability",
   "metadata": {},
   "source": [
    "Based on the mean, **family relationship after 2** had a `positive influence` on a student's math performance. Overall it is still an improvement in performance because FamilyRel(2) < FamilyRel(5) but I will conclude only to a limited extent because of the sharp drop from FamilyRel(2) to FamilyRel(3).\n",
    "\n",
    "\n",
    "**Family relationship other than 5** had a `positive influence` on a student's language performance. Overall, it is still an improvement in performance because FamilyRel(1) < FamilyRel(5)."
   ]
  },
  {
   "cell_type": "markdown",
   "id": "stretch-microphone",
   "metadata": {},
   "source": [
    "After examining both mean and boxplot...\n",
    "\n",
    "I conclude that family relationship does **positively influence** a student's language performance but as for math performance, it is a positive influence only to a `limited extent`."
   ]
  },
  {
   "cell_type": "markdown",
   "id": "challenging-amino",
   "metadata": {},
   "source": [
    "# Family Support VS Student's Performance"
   ]
  },
  {
   "cell_type": "code",
   "execution_count": 38,
   "id": "stupid-summary",
   "metadata": {},
   "outputs": [],
   "source": [
    "FS_math = pd.DataFrame(performance_math.FamilySup)\n",
    "FS_lang = pd.DataFrame(performance_lang.FamilySup)\n",
    "\n",
    "FSmarks_math = pd.concat([FS_math, average_math], axis = 1)\n",
    "FSmarks_lang = pd.concat([FS_lang, average_lang], axis = 1)"
   ]
  },
  {
   "cell_type": "code",
   "execution_count": 39,
   "id": "silent-shipping",
   "metadata": {},
   "outputs": [
    {
     "data": {
      "text/html": [
       "<div>\n",
       "<style scoped>\n",
       "    .dataframe tbody tr th:only-of-type {\n",
       "        vertical-align: middle;\n",
       "    }\n",
       "\n",
       "    .dataframe tbody tr th {\n",
       "        vertical-align: top;\n",
       "    }\n",
       "\n",
       "    .dataframe thead th {\n",
       "        text-align: right;\n",
       "    }\n",
       "</style>\n",
       "<table border=\"1\" class=\"dataframe\">\n",
       "  <thead>\n",
       "    <tr style=\"text-align: right;\">\n",
       "      <th></th>\n",
       "      <th>0</th>\n",
       "      <th>0</th>\n",
       "    </tr>\n",
       "    <tr>\n",
       "      <th>FamilySup</th>\n",
       "      <th></th>\n",
       "      <th></th>\n",
       "    </tr>\n",
       "  </thead>\n",
       "  <tbody>\n",
       "    <tr>\n",
       "      <th>Yes</th>\n",
       "      <td>242</td>\n",
       "      <td>398</td>\n",
       "    </tr>\n",
       "    <tr>\n",
       "      <th>No</th>\n",
       "      <td>153</td>\n",
       "      <td>251</td>\n",
       "    </tr>\n",
       "  </tbody>\n",
       "</table>\n",
       "</div>"
      ],
      "text/plain": [
       "             0    0\n",
       "FamilySup          \n",
       "Yes        242  398\n",
       "No         153  251"
      ]
     },
     "execution_count": 39,
     "metadata": {},
     "output_type": "execute_result"
    }
   ],
   "source": [
    "# A look at the family support value counts for both subjects\n",
    "\n",
    "df = pd.concat([pd.DataFrame(FS_math.value_counts()), pd.DataFrame(FS_lang.value_counts())], axis = 1)\n",
    "df"
   ]
  },
  {
   "cell_type": "code",
   "execution_count": 40,
   "id": "funny-driver",
   "metadata": {
    "scrolled": false
   },
   "outputs": [
    {
     "data": {
      "text/plain": [
       "<AxesSubplot:xlabel='LangAverage', ylabel='FamilySup'>"
      ]
     },
     "execution_count": 40,
     "metadata": {},
     "output_type": "execute_result"
    },
    {
     "data": {
      "image/png": "[encoded data removed]",
      "text/plain": [
       "<Figure size 864x1440 with 2 Axes>"
      ]
     },
     "metadata": {},
     "output_type": "display_data"
    }
   ],
   "source": [
    "# Boxplots for both math and language \n",
    "\n",
    "f, axes = plt.subplots(2, 1, figsize = (12,20))\n",
    "sb.boxplot(x = 'MathAverage', y = 'FamilySup', data = FSmarks_math, orient = 'h', ax = axes[0])\n",
    "sb.boxplot(x = 'LangAverage', y = 'FamilySup', data = FSmarks_lang, orient = 'h', ax = axes[1])"
   ]
  },
  {
   "cell_type": "code",
   "execution_count": 41,
   "id": "indian-barbados",
   "metadata": {},
   "outputs": [
    {
     "data": {
      "text/html": [
       "<div>\n",
       "<style scoped>\n",
       "    .dataframe tbody tr th:only-of-type {\n",
       "        vertical-align: middle;\n",
       "    }\n",
       "\n",
       "    .dataframe tbody tr th {\n",
       "        vertical-align: top;\n",
       "    }\n",
       "\n",
       "    .dataframe thead th {\n",
       "        text-align: right;\n",
       "    }\n",
       "</style>\n",
       "<table border=\"1\" class=\"dataframe\">\n",
       "  <thead>\n",
       "    <tr style=\"text-align: right;\">\n",
       "      <th></th>\n",
       "      <th>MathAverage_Yes</th>\n",
       "      <th>MathAverage_No</th>\n",
       "      <th>LangAverage_Yes</th>\n",
       "      <th>LangAverage_No</th>\n",
       "    </tr>\n",
       "  </thead>\n",
       "  <tbody>\n",
       "    <tr>\n",
       "      <th>count</th>\n",
       "      <td>242.000000</td>\n",
       "      <td>153.000000</td>\n",
       "      <td>398.000000</td>\n",
       "      <td>251.000000</td>\n",
       "    </tr>\n",
       "    <tr>\n",
       "      <th>mean</th>\n",
       "      <td>10.498623</td>\n",
       "      <td>10.965142</td>\n",
       "      <td>11.732831</td>\n",
       "      <td>11.454183</td>\n",
       "    </tr>\n",
       "    <tr>\n",
       "      <th>std</th>\n",
       "      <td>3.659965</td>\n",
       "      <td>3.748521</td>\n",
       "      <td>2.700319</td>\n",
       "      <td>3.030072</td>\n",
       "    </tr>\n",
       "    <tr>\n",
       "      <th>min</th>\n",
       "      <td>1.333333</td>\n",
       "      <td>2.000000</td>\n",
       "      <td>2.333333</td>\n",
       "      <td>1.333333</td>\n",
       "    </tr>\n",
       "    <tr>\n",
       "      <th>25%</th>\n",
       "      <td>8.083333</td>\n",
       "      <td>8.666667</td>\n",
       "      <td>10.000000</td>\n",
       "      <td>9.666667</td>\n",
       "    </tr>\n",
       "    <tr>\n",
       "      <th>50%</th>\n",
       "      <td>10.333333</td>\n",
       "      <td>11.000000</td>\n",
       "      <td>11.666667</td>\n",
       "      <td>11.333333</td>\n",
       "    </tr>\n",
       "    <tr>\n",
       "      <th>75%</th>\n",
       "      <td>13.000000</td>\n",
       "      <td>13.333333</td>\n",
       "      <td>13.333333</td>\n",
       "      <td>13.333333</td>\n",
       "    </tr>\n",
       "    <tr>\n",
       "      <th>max</th>\n",
       "      <td>18.333333</td>\n",
       "      <td>19.333333</td>\n",
       "      <td>18.666667</td>\n",
       "      <td>18.000000</td>\n",
       "    </tr>\n",
       "  </tbody>\n",
       "</table>\n",
       "</div>"
      ],
      "text/plain": [
       "       MathAverage_Yes  MathAverage_No  LangAverage_Yes  LangAverage_No\n",
       "count       242.000000      153.000000       398.000000      251.000000\n",
       "mean         10.498623       10.965142        11.732831       11.454183\n",
       "std           3.659965        3.748521         2.700319        3.030072\n",
       "min           1.333333        2.000000         2.333333        1.333333\n",
       "25%           8.083333        8.666667        10.000000        9.666667\n",
       "50%          10.333333       11.000000        11.666667       11.333333\n",
       "75%          13.000000       13.333333        13.333333       13.333333\n",
       "max          18.333333       19.333333        18.666667       18.000000"
      ]
     },
     "execution_count": 41,
     "metadata": {},
     "output_type": "execute_result"
    }
   ],
   "source": [
    "# We look at the actual data to compare the quartiles and median for language because boxplots look too similar\n",
    "\n",
    "df = pd.concat([FSmarks_math[FSmarks_math.FamilySup == 'Yes'].describe().rename(columns={'MathAverage': 'MathAverage_Yes'}),\n",
    "                FSmarks_math[FSmarks_math.FamilySup == 'No'].describe().rename(columns={'MathAverage': 'MathAverage_No'}),\n",
    "                FSmarks_lang[FSmarks_lang.FamilySup == 'Yes'].describe().rename(columns={'LangAverage': 'LangAverage_Yes'}), \n",
    "                FSmarks_lang[FSmarks_lang.FamilySup == 'No'].describe().rename(columns={'LangAverage': 'LangAverage_No'})],\n",
    "               axis = 1)\n",
    "df"
   ]
  },
  {
   "cell_type": "markdown",
   "id": "resistant-butter",
   "metadata": {},
   "source": [
    "**Math**: Mean, 1st Quartile, Median and 3rd Quartile for students without family support is higher than sudents with family support.       \n",
    "This suggest that students without family support performed better in math.\n",
    "\n",
    "**Lang**: Mean, 1st Quartile and Median for students with family support is higher than students without.      \n",
    "This suggest that students with family support performed better in language."
   ]
  },
  {
   "cell_type": "markdown",
   "id": "instrumental-worth",
   "metadata": {},
   "source": [
    "Putting the conclusions together.. (Does the **family background**, **family relationship** and **family support** influence a student's **performance**?)\n",
    "\n",
    "**1) FAMILY BACKGROUND**       \n",
    "Within family background, the more influential factors are `family education background` the `parents' occupation`.      \n",
    "- Students tend to perform better when their family education background is better. \n",
    "- Students tend to perform better when their parents are **teachers** or they work in the **healthcare sector**. \n",
    "\n",
    "The `type of residence` they live in does play a part in their performance as well but only to a **small extent** compared to the other factors.\n",
    "\n",
    "\n",
    "**2) FAMILY RELATIONSHIP**        \n",
    "Family relationship does **positively influence** a student's language performance but as for math performance, it is a positive influence only to a `limited extent`.\n",
    "\n",
    "\n",
    "**3) FAMILY SUPPORT**       \n",
    "Students **without family support** `performed better in math` while students **with family support** `performed better in language`."
   ]
  },
  {
   "cell_type": "markdown",
   "id": "continuous-hierarchy",
   "metadata": {},
   "source": [
    "`QUESTION 2`: What can a student do (attributes that they can control) to improve their performance in these subjects?"
   ]
  },
  {
   "cell_type": "markdown",
   "id": "auburn-summary",
   "metadata": {},
   "source": [
    "Let's look at the variables that a student can control...  \n",
    "\n",
    "- Study Time: Weekly study time (numeric: 1 - <2 hours, 2 - 2 to 5 hours, 3 - 5 to 10 hours, or 4 - >10 hours)   \n",
    "- Activities: Extra-curricular activities (binary: yes or no)\n",
    "- Romantic: In a romantic relationship (binary: yes or no)    \n",
    "- Going Out: Going out with friends (numeric: from 1 - very low to 5 - very high)  \n",
    "\n",
    "Let's do an analysis for all 4 variables. First we see that all the variables are categorical.        "
   ]
  },
  {
   "cell_type": "code",
   "execution_count": 42,
   "id": "subtle-fundamentals",
   "metadata": {},
   "outputs": [],
   "source": [
    "# Extract all the relevant columns\n",
    "studytime_math = pd.DataFrame(performance_math.StudyTime).rename(columns = {'StudyTime': 'StudyTime_Math'})\n",
    "activities_math = pd.DataFrame(performance_math.Activities).rename(columns = {'Activities': 'Activities_Math'})\n",
    "romantic_math = pd.DataFrame(performance_math.Romantic).rename(columns = {'Romantic': 'Romantic_Math'})\n",
    "goingout_math = pd.DataFrame(performance_math.GoingOut).rename(columns = {'GoingOut': 'GoingOut_Math'})\n",
    "\n",
    "studytime_lang = pd.DataFrame(performance_lang.StudyTime).rename(columns = {'StudyTime': 'StudyTime_Lang'})\n",
    "activities_lang = pd.DataFrame(performance_lang.Activities).rename(columns = {'Activities': 'Activities_Lang'})\n",
    "romantic_lang = pd.DataFrame(performance_lang.Romantic).rename(columns = {'Romantic': 'Romantic_Lang'})\n",
    "goingout_lang = pd.DataFrame(performance_lang.GoingOut).rename(columns = {'GoingOut': 'GoingOut_Lang'})"
   ]
  },
  {
   "cell_type": "code",
   "execution_count": 43,
   "id": "political-arlington",
   "metadata": {},
   "outputs": [],
   "source": [
    "# To create a function to show value counts as well as boxplots\n",
    "\n",
    "def boxplots(y1, y2, df):\n",
    "    valuecounts = pd.DataFrame(pd.concat([pd.DataFrame(df[y1].value_counts()), pd.DataFrame(df[y2].value_counts())], axis = 1))\n",
    "    print(\"VALUE COUNTS\")\n",
    "    print(valuecounts)\n",
    "    f, axes = plt.subplots(2,1,figsize = (12,10))\n",
    "    sb.boxplot(x = 'MathAverage', y = y1, data = df, orient = 'h', ax = axes[0])\n",
    "    sb.boxplot(x = 'LangAverage', y = y2, data = df, orient = 'h', ax = axes[1])"
   ]
  },
  {
   "cell_type": "markdown",
   "id": "funny-dancing",
   "metadata": {},
   "source": [
    "**`Study Time VS Student's Performance`**"
   ]
  },
  {
   "cell_type": "code",
   "execution_count": 44,
   "id": "progressive-director",
   "metadata": {
    "scrolled": false
   },
   "outputs": [
    {
     "name": "stdout",
     "output_type": "stream",
     "text": [
      "VALUE COUNTS\n",
      "     StudyTime_Math  StudyTime_Lang\n",
      "2.0             198             305\n",
      "1.0             105             212\n",
      "3.0              65              97\n",
      "4.0              27              35\n"
     ]
    },
    {
     "data": {
      "image/png": "[encoded data removed]",
      "text/plain": [
       "<Figure size 864x720 with 2 Axes>"
      ]
     },
     "metadata": {},
     "output_type": "display_data"
    }
   ],
   "source": [
    "df = pd.concat([average_math, average_lang, studytime_math, studytime_lang], axis = 1)\n",
    "boxplots('StudyTime_Math', 'StudyTime_Lang', df)"
   ]
  },
  {
   "cell_type": "markdown",
   "id": "lightweight-earthquake",
   "metadata": {},
   "source": [
    "In general, we see majority of the datapoints **moving to the right** as a student spend more time studying for both subjects. This implies a student perform **better** when they spend more time studying.\n",
    "\n",
    "However, we see that for categories 3 and 4, the boxplots are **quite similar** for both subjects.   \n",
    "This suggest that so long as students who are in categories 1 and 2 **move up** to at least category 3, they should see an improvement in their performance be it math or language."
   ]
  },
  {
   "cell_type": "code",
   "execution_count": null,
   "id": "capital-bermuda",
   "metadata": {},
   "outputs": [],
   "source": []
  },
  {
   "cell_type": "markdown",
   "id": "robust-metropolitan",
   "metadata": {},
   "source": [
    "**`Activities VS Student's Performance`**"
   ]
  },
  {
   "cell_type": "code",
   "execution_count": 45,
   "id": "certain-brain",
   "metadata": {
    "scrolled": false
   },
   "outputs": [
    {
     "name": "stdout",
     "output_type": "stream",
     "text": [
      "VALUE COUNTS\n",
      "     Activities_Math  Activities_Lang\n",
      "Yes              201              315\n",
      "No               194              334\n"
     ]
    },
    {
     "data": {
      "image/png": "[encoded data removed]",
      "text/plain": [
       "<Figure size 864x720 with 2 Axes>"
      ]
     },
     "metadata": {},
     "output_type": "display_data"
    }
   ],
   "source": [
    "df = pd.concat([average_math, average_lang, activities_math, activities_lang], axis = 1)\n",
    "\n",
    "boxplots('Activities_Math', 'Activities_Lang', df)"
   ]
  },
  {
   "cell_type": "code",
   "execution_count": 46,
   "id": "legitimate-lecture",
   "metadata": {},
   "outputs": [
    {
     "name": "stdout",
     "output_type": "stream",
     "text": [
      "Math Summary stats for students with activities:\n",
      " count    201.000000\n",
      "mean      10.827529\n",
      "std        3.672888\n",
      "min        1.333333\n",
      "25%        9.000000\n",
      "50%       10.666667\n",
      "75%       13.333333\n",
      "max       19.333333\n",
      "Name: MathAverage, dtype: float64 \n",
      "\n",
      "Math Summary stats for students without activities:\n",
      " count    194.000000\n",
      "mean      10.525773\n",
      "std        3.724643\n",
      "min        1.666667\n",
      "25%        8.000000\n",
      "50%       10.666667\n",
      "75%       13.000000\n",
      "max       18.666667\n",
      "Name: MathAverage, dtype: float64 \n",
      "\n",
      "Language Summary stats for students with activities:\n",
      " count    315.000000\n",
      "mean      11.833862\n",
      "std        2.826847\n",
      "min        1.666667\n",
      "25%       10.166667\n",
      "50%       12.000000\n",
      "75%       13.666667\n",
      "max       18.000000\n",
      "Name: LangAverage, dtype: float64 \n",
      "\n",
      "Language Summary stats for students without activities:\n",
      " count    334.000000\n",
      "mean      11.428144\n",
      "std        2.829605\n",
      "min        1.333333\n",
      "25%        9.666667\n",
      "50%       11.000000\n",
      "75%       13.000000\n",
      "max       18.666667\n",
      "Name: LangAverage, dtype: float64\n"
     ]
    }
   ],
   "source": [
    "# Boxplots look similar, it will be better to see the specific values for the quartiles, mean and median\n",
    "# Using describe allows us to see the individual quartiles, mean and median.\n",
    "\n",
    "print(\"Math Summary stats for students with activities:\\n\", df[df.Activities_Math == 'Yes'].MathAverage.describe(), '\\n')\n",
    "print(\"Math Summary stats for students without activities:\\n\", df[df.Activities_Math == 'No'].MathAverage.describe(), '\\n')\n",
    "print(\"Language Summary stats for students with activities:\\n\", df[df.Activities_Lang == 'Yes'].LangAverage.describe(), '\\n')\n",
    "print(\"Language Summary stats for students without activities:\\n\", df[df.Activities_Lang == 'No'].LangAverage.describe())"
   ]
  },
  {
   "cell_type": "markdown",
   "id": "fatty-johnson",
   "metadata": {},
   "source": [
    "**Math**: Mean, 1st Quartile and 3rd Quartile is higher for students with activities. This suggest that students who joined activities tend to do better in math.\n",
    "\n",
    "**Lang**: Mean, 1st Quartile, Median and 3rd Quartile is higher for students with activities. This suggest that students who joined activites do better in language.\n",
    "\n",
    "In conclusion, participating in activities can help improve a student's performance."
   ]
  },
  {
   "cell_type": "code",
   "execution_count": null,
   "id": "dramatic-occurrence",
   "metadata": {},
   "outputs": [],
   "source": []
  },
  {
   "cell_type": "markdown",
   "id": "technical-baghdad",
   "metadata": {},
   "source": [
    "**`Romantic VS Student's Performance`**"
   ]
  },
  {
   "cell_type": "code",
   "execution_count": 47,
   "id": "subjective-platinum",
   "metadata": {},
   "outputs": [
    {
     "name": "stdout",
     "output_type": "stream",
     "text": [
      "VALUE COUNTS\n",
      "     Romantic_Math  Romantic_Lang\n",
      "No             263            410\n",
      "Yes            132            239\n"
     ]
    },
    {
     "data": {
      "image/png": "[encoded data removed]",
      "text/plain": [
       "<Figure size 864x720 with 2 Axes>"
      ]
     },
     "metadata": {},
     "output_type": "display_data"
    }
   ],
   "source": [
    "df = pd.concat([average_math, average_lang, romantic_math, romantic_lang], axis = 1)\n",
    "\n",
    "boxplots('Romantic_Math', 'Romantic_Lang', df)"
   ]
  },
  {
   "cell_type": "code",
   "execution_count": 48,
   "id": "moving-harmony",
   "metadata": {},
   "outputs": [
    {
     "name": "stdout",
     "output_type": "stream",
     "text": [
      "Math Average for students in romantic relationship: 10.14\n",
      "Math Average for students NOT in romantic relationship: 10.95\n",
      "Language Average for students in romantic relationship: 11.28\n",
      "Language Average for students NOT in romantic relationship: 11.82\n"
     ]
    }
   ],
   "source": [
    "# To print the mean marks for each subjects for students who are in romantic relationship or not.\n",
    "\n",
    "print('Math Average for students in romantic relationship:',\n",
    "      df[df.Romantic_Math == 'Yes'].MathAverage.mean().round(2))\n",
    "print('Math Average for students NOT in romantic relationship:',\n",
    "      df[df.Romantic_Math == 'No'].MathAverage.mean().round(2))\n",
    "print('Language Average for students in romantic relationship:',\n",
    "      df[df.Romantic_Lang == 'Yes'].LangAverage.mean().round(2))\n",
    "print('Language Average for students NOT in romantic relationship:',\n",
    "      df[df.Romantic_Lang == 'No'].LangAverage.mean().round(2))"
   ]
  },
  {
   "cell_type": "markdown",
   "id": "flush-perry",
   "metadata": {},
   "source": [
    "**Math**: Mean, 1st Quartile, Median and 3rd Quartile are higher for students without romantic relationship.\n",
    "\n",
    "**Lang**: Mean, 1st Quartile, Median and 3rd Quartile are higher for students without romantic relationship.\n",
    "\n",
    "Hence, students without romantic relationship tend to `do better` than students with romantic relationship. "
   ]
  },
  {
   "cell_type": "markdown",
   "id": "preceding-monte",
   "metadata": {},
   "source": [
    "**`Going Out VS Student's Performance`**"
   ]
  },
  {
   "cell_type": "code",
   "execution_count": 49,
   "id": "atomic-richardson",
   "metadata": {
    "scrolled": false
   },
   "outputs": [
    {
     "name": "stdout",
     "output_type": "stream",
     "text": [
      "VALUE COUNTS\n",
      "     GoingOut_Math  GoingOut_Lang\n",
      "3.0            130            205\n",
      "2.0            103            145\n",
      "4.0             86            141\n",
      "5.0             53            110\n",
      "1.0             23             48\n"
     ]
    },
    {
     "data": {
      "image/png": "[encoded data removed]",
      "text/plain": [
       "<Figure size 864x720 with 2 Axes>"
      ]
     },
     "metadata": {},
     "output_type": "display_data"
    }
   ],
   "source": [
    "df = pd.concat([average_math, average_lang, goingout_math, goingout_lang], axis = 1)\n",
    "\n",
    "boxplots('GoingOut_Math', 'GoingOut_Lang', df)"
   ]
  },
  {
   "cell_type": "code",
   "execution_count": 50,
   "id": "absent-aggregate",
   "metadata": {},
   "outputs": [
    {
     "name": "stdout",
     "output_type": "stream",
     "text": [
      "Math Average for going out index(1) 10.59\n",
      "Math Average for going out index(2) 11.34\n",
      "Math Average for going out index(3) 11.1\n",
      "Math Average for going out index(4) 10.05\n",
      "Math Average for going out index(5) 9.43\n",
      "\n",
      "Language Average for going out index(1) 10.53\n",
      "Language Average for going out index(2) 12.34\n",
      "Language Average for going out index(3) 11.84\n",
      "Language Average for going out index(4) 11.58\n",
      "Language Average for going out index(5) 10.81\n"
     ]
    }
   ],
   "source": [
    "arr = [1,2,3,4,5]\n",
    "\n",
    "for i in arr:\n",
    "    print(f\"Math Average for going out index({i})\", df[df.GoingOut_Math == i].MathAverage.mean().round(2))\n",
    "print()\n",
    "for i in arr:\n",
    "    print(f\"Language Average for going out index({i})\", df[df.GoingOut_Lang == i].LangAverage.mean().round(2))"
   ]
  },
  {
   "cell_type": "markdown",
   "id": "knowing-parking",
   "metadata": {},
   "source": [
    "Starting from category 2, as a student **go out more**, the majority of the datapoints (indicated by the box) start **shifting to the left** which imply `deterioration of performance`. \n",
    "\n",
    "Category 2 generally has a **highest Mean results, 1st Quartile, Median, 3rd Quartile in both subjects**. This suggest that students in category 2 tend to `perform better` than other students.\n",
    "\n",
    "Hence, we see that how much a student go out actually influence their performance.   \n",
    "Perhaps category 2 is a **`healthy going out index`** where you get to enjoy going out and also perform better in school.   \n",
    "As such, students who are in category 1 should move up to category 2 and students who are in categories 3,4 and 5 should move down to 2."
   ]
  },
  {
   "cell_type": "markdown",
   "id": "disturbed-jacob",
   "metadata": {},
   "source": [
    "What can a student do (attributes that they can control) to improve their performance in these subjects?\n",
    "\n",
    "**1) Study Time**\n",
    "So long as students who are in categories 1 and 2 **move up** to at least category 3, they should see an improvement in their performance for both subjects.\n",
    "\n",
    "**2) Activities**\n",
    "Participating in activities can help improve a student's performance for both subjects.\n",
    "\n",
    "**3) Romantic**\n",
    "Students without romantic relationship tend to `do better` than students with romantic relationship. For students in a romantic relationship, perhaps they can end their relationship to improve their performance for both subjects. (cruel fact :( )\n",
    "\n",
    "**4) Going Out**\n",
    "Students who are in category 1 should move up to category 2 and students who are in categories 3,4 and 5 should move down to 2 if they want to improve their performance for both subjects."
   ]
  },
  {
   "cell_type": "markdown",
   "id": "everyday-checklist",
   "metadata": {},
   "source": [
    "`QUESTION 3` What can schools do (attributes that they can control) to help students perform better in these subjects?"
   ]
  },
  {
   "cell_type": "markdown",
   "id": "worse-allowance",
   "metadata": {},
   "source": [
    "Look at the variables that school can control:\n",
    "- SchoolSup: Extra educational support (binary: yes or no)  \n",
    "- Activities: Extra-curricular activities (binary: yes or no)\n",
    "\n",
    "These are categorical variables."
   ]
  },
  {
   "cell_type": "code",
   "execution_count": 51,
   "id": "confident-religion",
   "metadata": {},
   "outputs": [],
   "source": [
    "# Rename T1, T2 and T3 into their respective subjects\n",
    "performance_math = performance_math.rename(columns = {\"T1\": \"T1_Math\", \"T2\": \"T2_Math\", \"T3\": \"T3_Math\"})\n",
    "performance_lang = performance_lang.rename(columns = {\"T1\": \"T1_Lang\", \"T2\": \"T2_Lang\", \"T3\": \"T3_Lang\"})\n",
    "\n",
    "# Create schoolA dataframe\n",
    "schoolA_math = pd.DataFrame(performance_math[performance_math['School'] == 'SchoolA'])\n",
    "schoolA_lang = pd.DataFrame(performance_lang[performance_lang['School'] == 'SchoolA'])\n",
    "schoolA = schoolA_math.append(schoolA_lang).drop(columns = \"FamilyEduBG\")\n",
    "\n",
    "# Create schoolB dataframe\n",
    "schoolB_math = pd.DataFrame(performance_math[performance_math['School'] == 'SchoolB'])\n",
    "schoolB_lang = pd.DataFrame(performance_lang[performance_lang['School'] == 'SchoolB'])\n",
    "schoolB = schoolB_math.append(schoolB_lang).drop(columns = [\"FamilyEduBG\"])\n",
    "\n",
    "# Metrics for student performance\n",
    "schoolAT1toT3_math = pd.concat([schoolA.T1_Math, schoolA.T2_Math, schoolA.T3_Math], axis = 1)\n",
    "schoolAT1toT3_lang = pd.concat([schoolA.T1_Lang, schoolA.T2_Lang, schoolA.T3_Lang], axis = 1)\n",
    "schoolBT1toT3_math = pd.concat([schoolB.T1_Math, schoolB.T2_Math, schoolB.T3_Math], axis = 1)\n",
    "schoolBT1toT3_lang = pd.concat([schoolB.T1_Lang, schoolB.T2_Lang, schoolB.T3_Lang], axis = 1)\n",
    "schoolA['MathAverage'] = (schoolA.T1_Math + schoolA.T2_Math + schoolA.T3_Math)/3\n",
    "schoolA['LangAverage'] = (schoolA.T1_Lang + schoolA.T2_Lang + schoolA.T3_Lang)/3\n",
    "schoolB['MathAverage'] = (schoolB.T1_Math + schoolB.T2_Math + schoolB.T3_Math)/3\n",
    "schoolB['LangAverage'] = (schoolB.T1_Lang + schoolB.T2_Lang + schoolB.T3_Lang)/3\n",
    "\n",
    "# Renaming schoolsup according to their respective schools so that the boxplot will be clearer\n",
    "schoolA_schoolsup = pd.DataFrame(schoolA.SchoolSup).rename(columns={'SchoolSup': 'SchoolSup_A'})\n",
    "schoolB_schoolsup = pd.DataFrame(schoolB.SchoolSup).rename(columns={'SchoolSup': 'SchoolSup_B'})\n",
    "\n",
    "# Below is the dataframe for schoolsup, math and language according to their respective schools\n",
    "schoolA_schoolsup_mathlang = pd.concat([schoolA_schoolsup, schoolAT1toT3_math, schoolAT1toT3_lang, \n",
    "                                        schoolA['MathAverage'], schoolA['LangAverage']], axis = 1)\n",
    "schoolB_schoolsup_mathlang = pd.concat([schoolB_schoolsup, schoolBT1toT3_math, schoolBT1toT3_lang, \n",
    "                                        schoolB['MathAverage'], schoolB['LangAverage']], axis = 1)"
   ]
  },
  {
   "cell_type": "code",
   "execution_count": 52,
   "id": "structured-timeline",
   "metadata": {},
   "outputs": [
    {
     "name": "stdout",
     "output_type": "stream",
     "text": [
      "<class 'pandas.core.frame.DataFrame'>\n",
      "Int64Index: 772 entries, 0 to 422\n",
      "Data columns (total 30 columns):\n",
      " #   Column       Non-Null Count  Dtype  \n",
      "---  ------       --------------  -----  \n",
      " 0   School       772 non-null    object \n",
      " 1   Gender       772 non-null    object \n",
      " 2   Age          772 non-null    int64  \n",
      " 3   Residence    772 non-null    object \n",
      " 4   MomEdu       772 non-null    int64  \n",
      " 5   DadEdu       772 non-null    int64  \n",
      " 6   MomJob       772 non-null    object \n",
      " 7   DadJob       772 non-null    object \n",
      " 8   TravelTime   772 non-null    int64  \n",
      " 9   StudyTime    772 non-null    int64  \n",
      " 10  PastFails    772 non-null    int64  \n",
      " 11  SchoolSup    772 non-null    object \n",
      " 12  FamilySup    772 non-null    object \n",
      " 13  PaidSup      772 non-null    object \n",
      " 14  Activities   772 non-null    object \n",
      " 15  Internet     772 non-null    object \n",
      " 16  Romantic     772 non-null    object \n",
      " 17  FamilyRel    772 non-null    int64  \n",
      " 18  FreeTime     772 non-null    int64  \n",
      " 19  GoingOut     772 non-null    int64  \n",
      " 20  Health       772 non-null    int64  \n",
      " 21  Absences     772 non-null    int64  \n",
      " 22  T1_Math      349 non-null    float64\n",
      " 23  T2_Math      349 non-null    float64\n",
      " 24  T3_Math      349 non-null    float64\n",
      " 25  T1_Lang      423 non-null    float64\n",
      " 26  T2_Lang      423 non-null    float64\n",
      " 27  T3_Lang      423 non-null    float64\n",
      " 28  MathAverage  349 non-null    float64\n",
      " 29  LangAverage  423 non-null    float64\n",
      "dtypes: float64(8), int64(11), object(11)\n",
      "memory usage: 187.0+ KB\n"
     ]
    }
   ],
   "source": [
    "schoolA.info()"
   ]
  },
  {
   "cell_type": "markdown",
   "id": "proper-uncertainty",
   "metadata": {},
   "source": [
    "**`School Support VS Student's Performance`**\n",
    "\n",
    "SchoolSup: Extra educational support (binary: yes or no)\n",
    "\n",
    "Effectiveness of school support depends on the student's performance over time. So instead of taking average performance, we should compare the grades from term 1 to term 3."
   ]
  },
  {
   "cell_type": "code",
   "execution_count": 53,
   "id": "velvet-convert",
   "metadata": {},
   "outputs": [],
   "source": [
    "# Breaking down the dataframe into respective subjects by dropping the NaN values\n",
    "schoolA_schoolsup_math = schoolA_schoolsup_mathlang[schoolA_schoolsup_mathlang['MathAverage'].notna()]\n",
    "schoolA_schoolsup_lang = schoolA_schoolsup_mathlang[schoolA_schoolsup_mathlang['LangAverage'].notna()]\n",
    "schoolB_schoolsup_math = schoolB_schoolsup_mathlang[schoolB_schoolsup_mathlang['MathAverage'].notna()]\n",
    "schoolB_schoolsup_lang = schoolB_schoolsup_mathlang[schoolB_schoolsup_mathlang['LangAverage'].notna()]"
   ]
  },
  {
   "cell_type": "code",
   "execution_count": 54,
   "id": "underlying-cooking",
   "metadata": {},
   "outputs": [],
   "source": [
    "schoolA_withschoolsup_math = schoolA_schoolsup_math[schoolA_schoolsup_math['SchoolSup_A'] == 'Yes']\n",
    "schoolA_withoutschoolsup_math = schoolA_schoolsup_math[schoolA_schoolsup_math['SchoolSup_A'] == 'No']\n",
    "schoolA_withschoolsup_lang = schoolA_schoolsup_lang[schoolA_schoolsup_lang['SchoolSup_A'] == 'Yes']\n",
    "schoolA_withoutschoolsup_lang = schoolA_schoolsup_lang[schoolA_schoolsup_lang['SchoolSup_A'] == 'No']"
   ]
  },
  {
   "cell_type": "code",
   "execution_count": 55,
   "id": "continental-disney",
   "metadata": {},
   "outputs": [
    {
     "data": {
      "text/plain": [
       "[Text(0.5, 0, 'Without School Support')]"
      ]
     },
     "execution_count": 55,
     "metadata": {},
     "output_type": "execute_result"
    },
    {
     "data": {
      "image/png": "[encoded data removed]",
      "text/plain": [
       "<Figure size 864x1080 with 4 Axes>"
      ]
     },
     "metadata": {},
     "output_type": "display_data"
    }
   ],
   "source": [
    "f,axes = plt.subplots(4,1,figsize = (12,15))\n",
    "\n",
    "sb.boxplot(data = schoolA_withschoolsup_math[['T1_Math', 'T2_Math', 'T3_Math']], orient = 'h',\n",
    "          ax = axes[0]).set(xlabel = 'With School Support')\n",
    "sb.boxplot(data = schoolA_withoutschoolsup_math[['T1_Math', 'T2_Math', 'T3_Math']], orient = 'h',\n",
    "          ax = axes[1]).set(xlabel = 'Without School Support')\n",
    "sb.boxplot(data = schoolA_withschoolsup_lang[['T1_Lang', 'T2_Lang', 'T3_Lang']], orient = 'h',\n",
    "          ax = axes[2]).set(xlabel = 'With School Support')\n",
    "sb.boxplot(data = schoolA_withoutschoolsup_lang[['T1_Lang', 'T2_Lang', 'T3_Lang']], orient = 'h',\n",
    "          ax = axes[3]).set(xlabel = 'Without School Support')\n"
   ]
  },
  {
   "cell_type": "code",
   "execution_count": 56,
   "id": "continent-bridges",
   "metadata": {},
   "outputs": [
    {
     "name": "stdout",
     "output_type": "stream",
     "text": [
      "--MATH--\n",
      "With school support, T1 math average: 9.08\n",
      "With school support, T2 math average: 9.57\n",
      "With school support, T3 math average: 9.43\n",
      "\n",
      "Without school support, T1 math average: 11.26\n",
      "Without school support, T2 math average: 10.99\n",
      "Without school support, T3 math average: 10.67\n",
      "\n",
      "--LANG--\n",
      "With school support, T1 lang average: 10.75\n",
      "With school support, T2 lang average: 11.12\n",
      "With school support, T3 lang average: 11.39\n",
      "\n",
      "Without school support, T1 lang average: 12.17\n",
      "Without school support, T2 lang average: 12.3\n",
      "Without school support, T3 lang average: 12.76\n"
     ]
    }
   ],
   "source": [
    "# To see the individual term mean marks, with school support or not.\n",
    "print(\"--MATH--\")\n",
    "print(\"With school support, T1 math average:\", schoolA_withschoolsup_math.T1_Math.mean().round(2))\n",
    "print(\"With school support, T2 math average:\",schoolA_withschoolsup_math.T2_Math.mean().round(2))\n",
    "print(\"With school support, T3 math average:\",schoolA_withschoolsup_math.T3_Math.mean().round(2))\n",
    "print()\n",
    "print(\"Without school support, T1 math average:\", schoolA_withoutschoolsup_math.T1_Math.mean().round(2))\n",
    "print(\"Without school support, T2 math average:\",schoolA_withoutschoolsup_math.T2_Math.mean().round(2))\n",
    "print(\"Without school support, T3 math average:\",schoolA_withoutschoolsup_math.T3_Math.mean().round(2))\n",
    "print()\n",
    "\n",
    "print(\"--LANG--\")\n",
    "print(\"With school support, T1 lang average:\", schoolA_withschoolsup_lang.T1_Lang.mean().round(2))\n",
    "print(\"With school support, T2 lang average:\",schoolA_withschoolsup_lang.T2_Lang.mean().round(2))\n",
    "print(\"With school support, T3 lang average:\",schoolA_withschoolsup_lang.T3_Lang.mean().round(2))\n",
    "print()\n",
    "print(\"Without school support, T1 lang average:\", schoolA_withoutschoolsup_lang.T1_Lang.mean().round(2))\n",
    "print(\"Without school support, T2 lang average:\",schoolA_withoutschoolsup_lang.T2_Lang.mean().round(2))\n",
    "print(\"Without school support, T3 lang average:\",schoolA_withoutschoolsup_lang.T3_Lang.mean().round(2))"
   ]
  },
  {
   "cell_type": "markdown",
   "id": "palestinian-outreach",
   "metadata": {},
   "source": [
    "**SCHOOL A** (What can schools do (attributes that they can control) to help students perform better in these subjects?)\n",
    "\n",
    "**Math**: The median for students with school support increased over time. The mean also improved after T1. The 1st quartile for T2 and T3 were also higher than T1. These suggest improvement in performance for majority of the students with school support. More specifically, it suggest improvement for weaker students who used to be in the 1st quartile.\n",
    "\n",
    "\n",
    "Whereas the median for students without school support remained roughly the same. In fact, the box stays roughly the same which suggest that there were no changes to the performance for majority of the students. However we see decrease in mean marks over time which suggest `deterioration` of performance.\n",
    "\n",
    "**Lang**: We do not see significant changes in the box for students with school support. But the mean increased over time which is an indicator that students are performing better over time.\n",
    "\n",
    "But we do see a significant increase in median and 3rd Quartile for students without school support.\n",
    "\n",
    "Overall, school A can consider providing school support to more weak students to help improve their `math` performance. But as for `language`, it can remain optional because students without school support are performing better."
   ]
  },
  {
   "cell_type": "code",
   "execution_count": 57,
   "id": "controversial-swedish",
   "metadata": {},
   "outputs": [],
   "source": [
    "schoolB_withschoolsup_math = schoolB_schoolsup_math[schoolB_schoolsup_math['SchoolSup_B'] == 'Yes']\n",
    "schoolB_withoutschoolsup_math = schoolB_schoolsup_math[schoolB_schoolsup_math['SchoolSup_B'] == 'No']\n",
    "schoolB_withschoolsup_lang = schoolB_schoolsup_lang[schoolB_schoolsup_lang['SchoolSup_B'] == 'Yes']\n",
    "schoolB_withoutschoolsup_lang = schoolB_schoolsup_lang[schoolB_schoolsup_lang['SchoolSup_B'] == 'No']"
   ]
  },
  {
   "cell_type": "code",
   "execution_count": 58,
   "id": "remarkable-tension",
   "metadata": {},
   "outputs": [
    {
     "data": {
      "text/plain": [
       "[Text(0.5, 0, 'Without School Support')]"
      ]
     },
     "execution_count": 58,
     "metadata": {},
     "output_type": "execute_result"
    },
    {
     "data": {
      "image/png": "[encoded data removed]",
      "text/plain": [
       "<Figure size 864x1080 with 4 Axes>"
      ]
     },
     "metadata": {},
     "output_type": "display_data"
    }
   ],
   "source": [
    "f,axes = plt.subplots(4,1,figsize = (12,15))\n",
    "\n",
    "sb.boxplot(data = schoolB_withschoolsup_math[['T1_Math', 'T2_Math', 'T3_Math']], orient = 'h',\n",
    "          ax = axes[0]).set(xlabel = 'With School Support')\n",
    "sb.boxplot(data = schoolB_withoutschoolsup_math[['T1_Math', 'T2_Math', 'T3_Math']], orient = 'h',\n",
    "          ax = axes[1]).set(xlabel = 'Without School Support')\n",
    "sb.boxplot(data = schoolB_withschoolsup_lang[['T1_Lang', 'T2_Lang', 'T3_Lang']], orient = 'h',\n",
    "          ax = axes[2]).set(xlabel = 'With School Support')\n",
    "sb.boxplot(data = schoolB_withoutschoolsup_lang[['T1_Lang', 'T2_Lang', 'T3_Lang']], orient = 'h',\n",
    "          ax = axes[3]).set(xlabel = 'Without School Support')\n"
   ]
  },
  {
   "cell_type": "code",
   "execution_count": 59,
   "id": "dynamic-boards",
   "metadata": {},
   "outputs": [
    {
     "name": "stdout",
     "output_type": "stream",
     "text": [
      "--MATH--\n",
      "With school support, T1 math average: 0.00\n",
      "With school support, T2 math average: 0.00\n",
      "With school support, T3 math average: 0.00\n",
      "\n",
      "Without school support, T1 math average: 10.67\n",
      "Without school support, T2 math average: 10.2\n",
      "Without school support, T3 math average: 9.85\n",
      "\n",
      "--LANG--\n",
      "With school support, T1 lang average: 11.17\n",
      "With school support, T2 lang average: 10.92\n",
      "With school support, T3 lang average: 10.75\n",
      "\n",
      "Without school support, T1 lang average: 10.25\n",
      "Without school support, T2 lang average: 10.47\n",
      "Without school support, T3 lang average: 10.64\n"
     ]
    }
   ],
   "source": [
    "print(\"--MATH--\")\n",
    "print(\"With school support, T1 math average: 0.00\")\n",
    "print(\"With school support, T2 math average: 0.00\")\n",
    "print(\"With school support, T3 math average: 0.00\")\n",
    "print()\n",
    "print(\"Without school support, T1 math average:\", schoolB_withoutschoolsup_math.T1_Math.mean().round(2))\n",
    "print(\"Without school support, T2 math average:\",schoolB_withoutschoolsup_math.T2_Math.mean().round(2))\n",
    "print(\"Without school support, T3 math average:\",schoolB_withoutschoolsup_math.T3_Math.mean().round(2))\n",
    "print()\n",
    "\n",
    "print(\"--LANG--\")\n",
    "print(\"With school support, T1 lang average:\", schoolB_withschoolsup_lang.T1_Lang.mean().round(2))\n",
    "print(\"With school support, T2 lang average:\",schoolB_withschoolsup_lang.T2_Lang.mean().round(2))\n",
    "print(\"With school support, T3 lang average:\",schoolB_withschoolsup_lang.T3_Lang.mean().round(2))\n",
    "print()\n",
    "print(\"Without school support, T1 lang average:\", schoolB_withoutschoolsup_lang.T1_Lang.mean().round(2))\n",
    "print(\"Without school support, T2 lang average:\",schoolB_withoutschoolsup_lang.T2_Lang.mean().round(2))\n",
    "print(\"Without school support, T3 lang average:\",schoolB_withoutschoolsup_lang.T3_Lang.mean().round(2))"
   ]
  },
  {
   "cell_type": "markdown",
   "id": "broke-lindsay",
   "metadata": {},
   "source": [
    "**SCHOOL B** (What can schools do (attributes that they can control) to help students perform better in these subjects?)\n",
    "\n",
    "**Math**: School B did not have any students with school support. However, we see that the **mean marks are decreasing** which suggest `deterioration of performance`. Perhaps the school can provide some support and see if there are any changes.\n",
    "\n",
    "**Lang**: The **1st Quartile and Median of T1 is lower than T3** which suggest `improvement` but the **3rd Quartile of T1 is higher than T3** which suggest students `did better in T1 than T3`. And by looking at how the **mean marks decreased** over time, we can conclude that students with school support `are not improving over time`. \n",
    "\n",
    "For students without school support, we see that the **Mean, 1st Quartile, Median, 3rd Quartile are increasing** over time which suggest `improvement in performance`.\n",
    "\n",
    "Hence for school B, it is `unsure` whether providing school support can help improve one's math performance because there is no data. But the students are `not improving`, so perhaps they can consider providing school support and see if it is  effective.    \n",
    "As for language, school support is **ineffective**. As such, it can remain optional and schools should look for other ways to improve one's language performance."
   ]
  },
  {
   "cell_type": "markdown",
   "id": "unavailable-berkeley",
   "metadata": {},
   "source": [
    "**`Activities VS Student's Performance`**\n",
    "\n",
    "This was previously under attributes a student can control. But perhaps we can see it in a school's perspective."
   ]
  },
  {
   "cell_type": "code",
   "execution_count": 60,
   "id": "correct-decimal",
   "metadata": {},
   "outputs": [],
   "source": [
    "schoolA_activities_mathlang = schoolA[['Activities', 'MathAverage', 'LangAverage']]\n",
    "schoolB_activities_mathlang = schoolB[['Activities', 'MathAverage', 'LangAverage']]"
   ]
  },
  {
   "cell_type": "code",
   "execution_count": 61,
   "id": "raised-watch",
   "metadata": {},
   "outputs": [
    {
     "data": {
      "text/plain": [
       "<AxesSubplot:xlabel='LangAverage', ylabel='Activities'>"
      ]
     },
     "execution_count": 61,
     "metadata": {},
     "output_type": "execute_result"
    },
    {
     "data": {
      "image/png": "[encoded data removed]",
      "text/plain": [
       "<Figure size 864x576 with 2 Axes>"
      ]
     },
     "metadata": {},
     "output_type": "display_data"
    }
   ],
   "source": [
    "f, axes = plt.subplots(2,1,figsize = (12,8))\n",
    "\n",
    "sb.boxplot(x = 'MathAverage', y = 'Activities', data = schoolA_activities_mathlang, ax = axes[0], orient = 'h')\n",
    "sb.boxplot(x = 'LangAverage', y = 'Activities', data = schoolA_activities_mathlang, ax = axes[1], orient = 'h')"
   ]
  },
  {
   "cell_type": "markdown",
   "id": "convinced-musician",
   "metadata": {},
   "source": [
    "**SCHOOL A** (What can schools do (attributes that they can control) to help students perform better in these subjects?)\n",
    "\n",
    "**Math**: Students who joined activities had a higher 1st and 3rd quartile compared to students who did not. This suggest that students who joined activities performed slightly better.\n",
    "\n",
    "**Lang**: Students who joined activities had a much higher 1st and 3rd quartile compared to students who did not. This suggest that students who joined activities performed better.\n",
    "\n",
    "As such, **school A should encourage more students to join activities**."
   ]
  },
  {
   "cell_type": "code",
   "execution_count": null,
   "id": "mature-reason",
   "metadata": {},
   "outputs": [],
   "source": []
  },
  {
   "cell_type": "code",
   "execution_count": 62,
   "id": "played-blackberry",
   "metadata": {},
   "outputs": [
    {
     "data": {
      "text/plain": [
       "<AxesSubplot:xlabel='LangAverage', ylabel='Activities'>"
      ]
     },
     "execution_count": 62,
     "metadata": {},
     "output_type": "execute_result"
    },
    {
     "data": {
      "image/png": "[encoded data removed]",
      "text/plain": [
       "<Figure size 864x576 with 2 Axes>"
      ]
     },
     "metadata": {},
     "output_type": "display_data"
    }
   ],
   "source": [
    "f, axes = plt.subplots(2,1,figsize = (12,8))\n",
    "sb.boxplot(x = 'MathAverage', y = 'Activities', data = schoolB_activities_mathlang, ax = axes[0], orient = 'h')\n",
    "sb.boxplot(x = 'LangAverage', y = 'Activities', data = schoolB_activities_mathlang, ax = axes[1], orient = 'h')"
   ]
  },
  {
   "cell_type": "markdown",
   "id": "collective-religion",
   "metadata": {},
   "source": [
    "**SCHOOL B** (What can schools do (attributes that they can control) to help students perform better in these subjects?)\n",
    "\n",
    "**Math**: Students who joined activities had a much lower 1st quartile and a slightly lower 3rd quartile than students who did not. This suggest that students who joined activities performed worse.\n",
    "\n",
    "**Lang**: The boxplots look quite similar to each other which suggest that activities do not affect one's performance much.\n",
    "\n",
    "Hence, school B should try to **discourage students from joining activities if they want to do better in math**\n",
    "but for language, it can remain optional to them. "
   ]
  },
  {
   "cell_type": "code",
   "execution_count": null,
   "id": "willing-patent",
   "metadata": {},
   "outputs": [],
   "source": []
  },
  {
   "cell_type": "markdown",
   "id": "random-elder",
   "metadata": {},
   "source": [
    "`QUESTION 4`: Which school has a better overall student performance in these two subjects? Why do you think that is?\n",
    "\n",
    "Split the data into schools and into individual subjects."
   ]
  },
  {
   "cell_type": "code",
   "execution_count": 63,
   "id": "alleged-salad",
   "metadata": {},
   "outputs": [],
   "source": [
    "# Create dataframes according to school A and school B\n",
    "schoolA_math = pd.DataFrame(performance_math[performance_math['School'] == 'SchoolA'])\n",
    "schoolA_lang = pd.DataFrame(performance_lang[performance_lang['School'] == 'SchoolA'])\n",
    "schoolA = schoolA_math.append(schoolA_lang).drop(columns = \"FamilyEduBG\")\n",
    "\n",
    "schoolB_math = pd.DataFrame(performance_math[performance_math['School'] == 'SchoolB'])\n",
    "schoolB_lang = pd.DataFrame(performance_lang[performance_lang['School'] == 'SchoolB'])\n",
    "schoolB = schoolB_math.append(schoolB_lang).drop(columns = [\"FamilyEduBG\"])"
   ]
  },
  {
   "cell_type": "code",
   "execution_count": 64,
   "id": "industrial-montgomery",
   "metadata": {},
   "outputs": [],
   "source": [
    "schoolA_math = schoolA[['T1_Math', 'T2_Math', 'T3_Math']]\n",
    "schoolB_math = schoolB[['T1_Math', 'T2_Math', 'T3_Math']]\n",
    "schoolA_lang = schoolA[['T1_Lang', 'T2_Lang', 'T3_Lang']]\n",
    "schoolB_lang = schoolB[['T1_Lang', 'T2_Lang', 'T3_Lang']]"
   ]
  },
  {
   "cell_type": "code",
   "execution_count": 65,
   "id": "dedicated-handle",
   "metadata": {},
   "outputs": [],
   "source": [
    "# Drop the NaN values\n",
    "schoolA_math = schoolA_math.dropna()\n",
    "schoolB_math = schoolB_math.dropna()\n",
    "\n",
    "schoolA_lang = schoolA_lang.dropna()\n",
    "schoolB_lang = schoolB_lang.dropna()"
   ]
  },
  {
   "cell_type": "code",
   "execution_count": 66,
   "id": "sonic-correlation",
   "metadata": {},
   "outputs": [],
   "source": [
    "# Create a column to calculate the average grades from T1 to T3\n",
    "schoolA_math['AverageA_Math'] = (schoolA_math.T1_Math + schoolA_math.T2_Math + schoolA_math.T3_Math)/3\n",
    "schoolA_lang['AverageA_Lang'] = (schoolA_lang.T1_Lang + schoolA_lang.T2_Lang + schoolA_lang.T3_Lang)/3\n",
    "schoolB_math['AverageB_Math'] = (schoolB_math.T1_Math + schoolB_math.T2_Math + schoolB_math.T3_Math)/3\n",
    "schoolB_lang['AverageB_Lang'] = (schoolB_lang.T1_Lang + schoolB_lang.T2_Lang + schoolB_lang.T3_Lang)/3"
   ]
  },
  {
   "cell_type": "code",
   "execution_count": 67,
   "id": "existing-evidence",
   "metadata": {},
   "outputs": [
    {
     "name": "stdout",
     "output_type": "stream",
     "text": [
      "Mean for School A: 10.74\n",
      "Mean for School B: 10.24\n"
     ]
    },
    {
     "data": {
      "image/png": "[encoded data removed]",
      "text/plain": [
       "<Figure size 864x288 with 1 Axes>"
      ]
     },
     "metadata": {},
     "output_type": "display_data"
    }
   ],
   "source": [
    "# Conduct analysis based on boxlplots. We first start with MATH.\n",
    "df = pd.concat([pd.DataFrame(schoolB_math.AverageB_Math), pd.DataFrame(schoolA_math.AverageA_Math)])\n",
    "f = plt.figure(figsize = (12,4))\n",
    "\n",
    "sb.boxplot(data = df, orient = 'h')\n",
    "\n",
    "print(\"Mean for School A:\", schoolA_math.AverageA_Math.mean(axis = 0).round(2))\n",
    "print(\"Mean for School B:\", schoolB_math.AverageB_Math.mean(axis = 0).round(2))"
   ]
  },
  {
   "cell_type": "markdown",
   "id": "objective-acrylic",
   "metadata": {},
   "source": [
    "Which school has a better overall student performance in these two subjects? Why do you think that is?\n",
    "\n",
    "Based on the `mean`, we see that school A (10.74) did `better in math` than school B (10.24). It is also backed up by the `boxplot` where the **1st quartile, mean and 3rd quartile** of the boxplot for school A is greater than school B's."
   ]
  },
  {
   "cell_type": "code",
   "execution_count": 68,
   "id": "handled-surgery",
   "metadata": {},
   "outputs": [
    {
     "name": "stdout",
     "output_type": "stream",
     "text": [
      "Mean for School A: 12.24\n",
      "Mean for School B: 10.48\n"
     ]
    },
    {
     "data": {
      "image/png": "[encoded data removed]",
      "text/plain": [
       "<Figure size 864x288 with 1 Axes>"
      ]
     },
     "metadata": {},
     "output_type": "display_data"
    }
   ],
   "source": [
    "# Moving on to LANGUAGE.\n",
    "df = pd.concat([pd.DataFrame(schoolB_lang.AverageB_Lang), pd.DataFrame(schoolA_lang.AverageA_Lang)])\n",
    "f = plt.figure(figsize = (12,4))\n",
    "\n",
    "sb.boxplot(data = df, orient = 'h')\n",
    "\n",
    "print(\"Mean for School A:\", schoolA_lang.AverageA_Lang.mean(axis=0).round(2))\n",
    "print(\"Mean for School B:\", schoolB_lang.AverageB_Lang.mean(axis=0).round(2))"
   ]
  },
  {
   "cell_type": "markdown",
   "id": "wrong-extraction",
   "metadata": {},
   "source": [
    "Which school has a better overall student performance in these two subjects? Why do you think that is?\n",
    "\n",
    "Based on the `mean`, we see that school A (12.24) did `better in language` than school B (10.48). It is also backed up by the `boxplot` where the **1st quartile, median and 3rd quartile** of the boxplot for school A is greater than school B's."
   ]
  },
  {
   "cell_type": "code",
   "execution_count": null,
   "id": "chubby-diagram",
   "metadata": {},
   "outputs": [],
   "source": []
  },
  {
   "cell_type": "markdown",
   "id": "floral-sharp",
   "metadata": {},
   "source": [
    "`QUESTION 5`: How do the students perform over time? Are they consistent across terms, or do they gradually improve?\n",
    "\n",
    "To do this analysis, we look at the term grades individually. We use `mean` and `boxplots`."
   ]
  },
  {
   "cell_type": "code",
   "execution_count": 69,
   "id": "upset-prisoner",
   "metadata": {},
   "outputs": [
    {
     "data": {
      "text/plain": [
       "[Text(0.5, 0, 'SchoolA')]"
      ]
     },
     "execution_count": 69,
     "metadata": {},
     "output_type": "execute_result"
    },
    {
     "data": {
      "image/png": "[encoded data removed]",
      "text/plain": [
       "<Figure size 864x288 with 2 Axes>"
      ]
     },
     "metadata": {},
     "output_type": "display_data"
    }
   ],
   "source": [
    "# This is the original boxplots to try detect anomalies.\n",
    "f, axes = plt.subplots(2,1, figsize = (12,4))\n",
    "sb.boxplot(data = schoolA_math[['T1_Math', 'T2_Math', 'T3_Math']], orient = 'h', ax = axes[0])\n",
    "sb.boxplot(data = schoolA_lang[['T1_Lang', 'T2_Lang', 'T3_Lang']], orient = 'h', ax = axes[1]).set(xlabel = 'SchoolA')"
   ]
  },
  {
   "cell_type": "code",
   "execution_count": 70,
   "id": "played-conviction",
   "metadata": {},
   "outputs": [
    {
     "name": "stdout",
     "output_type": "stream",
     "text": [
      "Below is only applicable for SCHOOL A\n",
      "T1_Math          10.94\n",
      "T2_Math          10.78\n",
      "T3_Math          10.49\n",
      "AverageA_Math    10.74\n",
      "Name: mean, dtype: float64 \n",
      "\n",
      "After taking out the students with 0 marks...\n",
      "T1_Math          10.94\n",
      "T2_Math          11.20\n",
      "T3_Math          10.49\n",
      "AverageA_Math    11.06\n",
      "Name: mean, dtype: float64 \n",
      "\n",
      "T1_Lang          11.99\n",
      "T2_Lang          12.14\n",
      "T3_Lang          12.58\n",
      "AverageA_Lang    12.24\n",
      "Name: mean, dtype: float64 \n",
      "\n",
      "After taking out the anomaly students...\n",
      "T1_Lang          12.01\n",
      "T2_Lang          12.14\n",
      "T3_Lang          12.67\n",
      "AverageA_Lang    12.30\n",
      "Name: mean, dtype: float64 \n",
      "\n"
     ]
    }
   ],
   "source": [
    "# This is the mean section where we see the mean before extracting anomalies and after extracting.\n",
    "# Also, update the average column to prevent misunderstanding\n",
    "\n",
    "print(\"Below is only applicable for SCHOOL A\")\n",
    "print(schoolA_math.describe().round(2).loc['mean'], '\\n')\n",
    "schoolA_math.T2_Math = schoolA_math.T2_Math[schoolA_math.T2_Math > 0]\n",
    "schoolA_math['AverageA_Math'] = (schoolA_math.T1_Math + schoolA_math.T2_Math + schoolA_math.T3_Math)/3\n",
    "print(\"After taking out the students with 0 marks...\")\n",
    "print(schoolA_math.describe().round(2).loc['mean'], '\\n')\n",
    "\n",
    "\n",
    "print(schoolA_lang.describe().round(2).loc['mean'], '\\n')\n",
    "schoolA_lang.T1_Lang = schoolA_lang.T1_Lang[schoolA_lang.T1_Lang > 0]\n",
    "schoolA_lang.T3_Lang = schoolA_lang.T3_Lang[schoolA_lang.T3_Lang>6]\n",
    "schoolA_lang.T3_Lang = schoolA_lang.T3_Lang[schoolA_lang.T3_Lang<18.5]\n",
    "schoolA_lang['AverageA_Lang'] = (schoolA_lang.T1_Lang + schoolA_lang.T2_Lang + schoolA_lang.T3_Lang)/3\n",
    "print(\"After taking out the anomaly students...\")\n",
    "print(schoolA_lang.describe().round(2).loc['mean'], '\\n')"
   ]
  },
  {
   "cell_type": "markdown",
   "id": "collect-lewis",
   "metadata": {},
   "source": [
    "**SCHOOL A** (How do the students perform over time? Are they consistent across terms, or do they gradually improve?)\n",
    "\n",
    "**Math**: The `mean decreased` over time which suggest `deterioration of performance`.    \n",
    "\n",
    "But looking at the `boxplots`, the `3rd quartile for term 3 is higher than other 2 terms` which suggest that many students also improved. The median remained roughly the same. The probable reason as to why the mean decreased over time could be because the `spread of data for T3 is greater` than the other terms. As to why T2 have a lower mean despite a higher 1st quartile, it could be due to the `students who got 0 marks`. We see that once we take out students with 0 marks, the mean of T2 immediately **shot up**. \n",
    "\n",
    "Hence I conclude that for the majority, **students in school A improve in their math grades over time**.\n",
    "\n",
    "**Lang**: The `mean increased` over time which suggest `improvement`. Even after anomalies are taken out, the pattern of the mean is still the same - it increased over time. This is supported by the `boxplots` where we see that the `1st quartile and median for T3 is higher than the other terms`. \n",
    "\n",
    "Hence I conclude that for the majority, **students in school A improve in their language grades over time**."
   ]
  },
  {
   "cell_type": "code",
   "execution_count": 71,
   "id": "adult-adolescent",
   "metadata": {
    "scrolled": true
   },
   "outputs": [
    {
     "data": {
      "text/plain": [
       "[Text(0.5, 0, 'SchoolB')]"
      ]
     },
     "execution_count": 71,
     "metadata": {},
     "output_type": "execute_result"
    },
    {
     "data": {
      "image/png": "[encoded data removed]",
      "text/plain": [
       "<Figure size 864x288 with 2 Axes>"
      ]
     },
     "metadata": {},
     "output_type": "display_data"
    }
   ],
   "source": [
    "# This is the original boxplots to try detect anomalies.\n",
    "f, axes = plt.subplots(2,1, figsize = (12,4))\n",
    "sb.boxplot(data = schoolB_math[['T1_Math', 'T2_Math', 'T3_Math']], orient = 'h', ax = axes[0])\n",
    "sb.boxplot(data = schoolB_lang[['T1_Lang', 'T2_Lang', 'T3_Lang']], orient = 'h', ax = axes[1]).set(xlabel = 'SchoolB')"
   ]
  },
  {
   "cell_type": "code",
   "execution_count": 72,
   "id": "mediterranean-calculator",
   "metadata": {},
   "outputs": [
    {
     "name": "stdout",
     "output_type": "stream",
     "text": [
      "Below is applicable for SCHOOL B\n",
      "T1_Math          10.67\n",
      "T2_Math          10.20\n",
      "T3_Math           9.85\n",
      "AverageB_Math    10.24\n",
      "Name: mean, dtype: float64 \n",
      "\n",
      "After taking out the students with 0 marks...\n",
      "T1_Math          10.67\n",
      "T2_Math          10.20\n",
      "T3_Math          10.79\n",
      "AverageB_Math    10.84\n",
      "Name: mean, dtype: float64 \n",
      "\n",
      "T1_Lang          10.30\n",
      "T2_Lang          10.50\n",
      "T3_Lang          10.65\n",
      "AverageB_Lang    10.48\n",
      "Name: mean, dtype: float64 \n",
      "\n",
      "After taking out the anomaly students...\n",
      "T1_Lang          10.19\n",
      "T2_Lang          10.96\n",
      "T3_Lang          11.35\n",
      "AverageB_Lang    10.85\n",
      "Name: mean, dtype: float64 \n",
      "\n"
     ]
    }
   ],
   "source": [
    "# This is the mean section where we see the mean before extracting anomalies and after extracting.\n",
    "# Also, update the average column to prevent misunderstanding\n",
    "print(\"Below is applicable for SCHOOL B\")\n",
    "print(schoolB_math.describe().round(2).loc['mean'], '\\n')\n",
    "schoolB_math.T3_Math = schoolB_math.T3_Math[schoolB_math.T3_Math > 0]\n",
    "schoolB_math['AverageB_Math'] = (schoolB_math.T1_Math + schoolB_math.T2_Math + schoolB_math.T3_Math)/3\n",
    "print(\"After taking out the students with 0 marks...\")\n",
    "print(schoolB_math.describe().round(2).loc['mean'], '\\n')\n",
    "\n",
    "print(schoolB_lang.describe().round(2).loc['mean'], '\\n')\n",
    "schoolB_lang.T1_Lang = schoolB_lang.T1_Lang[schoolB_lang.T1_Lang < 18]\n",
    "schoolB_lang.T2_Lang = schoolB_lang.T2_Lang[schoolB_lang.T3_Lang > 0]\n",
    "schoolB_lang.T3_Lang = schoolB_lang.T3_Lang[schoolB_lang.T3_Lang > 0]\n",
    "schoolB_lang['AverageB_Lang'] = (schoolB_lang.T1_Lang + schoolB_lang.T2_Lang + schoolB_lang.T3_Lang)/3\n",
    "print(\"After taking out the anomaly students...\")\n",
    "print(schoolB_lang.describe().round(2).loc['mean'], '\\n')"
   ]
  },
  {
   "cell_type": "code",
   "execution_count": 73,
   "id": "enclosed-woman",
   "metadata": {},
   "outputs": [
    {
     "data": {
      "text/plain": [
       "<AxesSubplot:>"
      ]
     },
     "execution_count": 73,
     "metadata": {},
     "output_type": "execute_result"
    },
    {
     "data": {
      "image/png": "[encoded data removed]",
      "text/plain": [
       "<Figure size 864x288 with 1 Axes>"
      ]
     },
     "metadata": {},
     "output_type": "display_data"
    }
   ],
   "source": [
    "# Employ swarmplot to see the concentration of datapoints\n",
    "f = plt.figure(figsize = (12,4))\n",
    "sb.swarmplot(data = schoolB_math[['T1_Math', 'T2_Math', 'T3_Math']], orient = 'h')"
   ]
  },
  {
   "cell_type": "markdown",
   "id": "greatest-assault",
   "metadata": {},
   "source": [
    "**SCHOOL B** (How do the students perform over time? Are they consistent across terms, or do they gradually improve?)\n",
    "\n",
    "**Math**: Before taking out the students with 0 marks, it seemed like the everyone in the school did worse over time because the `mean` was **decreasing over time**. However after extracting out the students who scored 0 marks, we see that **majority of the students actually improved in T3** and in fact the mean is higher than T1's. However, the `boxplot` revealed that the **median for T3 is lower than T1's** and that imply students generally did better in T1 than T3. Since we have a **contradiction**, let's go a little deeper in the analysis and employ `swarmplot`. \n",
    "\n",
    "From the `swarmplot`, we can see why the mean for T3 is higher than T1. It is because there are **fewer data points in the below 8 region**. We see **more students scoring 9 and above**.                   \n",
    "\n",
    "I conclude that students in school B did **improve in their math performance but not gradually** and that the improvement is `very little`. They did worst in T2 and improved in T3.\n",
    "\n",
    "\n",
    "**Lang**: The `mean` **improved** over time despite extracting anomaly students. This is supported by the `boxplot` where we see the **1st quartile, median and 3rd quartile moving to the right over time**. This imply `gradual improvement` over time.     \n",
    "Hence, I conclude that students in school B **improve in their language performance over time**."
   ]
  },
  {
   "cell_type": "code",
   "execution_count": null,
   "id": "buried-raleigh",
   "metadata": {},
   "outputs": [],
   "source": []
  },
  {
   "cell_type": "markdown",
   "id": "figured-gross",
   "metadata": {},
   "source": [
    "`BONUS`: Are there any relationship between one's math performance and language performance?\n",
    "\n",
    "Given one subject's performance, we will naturally want to know how the person is doing overall rather than just 1 subject. As such, it is relevant to try and understand any relationship between the 2 subjects.\n",
    "\n",
    "We make use of the `commonstudents` data here because we need students with both math and language performance. We will also make use of correlation. "
   ]
  },
  {
   "cell_type": "code",
   "execution_count": 74,
   "id": "polar-registrar",
   "metadata": {
    "scrolled": true
   },
   "outputs": [],
   "source": [
    "# Create a metric to gauge one's performance\n",
    "commonstudents['MathAverage'] = (commonstudents.T1_Math + commonstudents.T2_Math + commonstudents.T3_Math) / 3\n",
    "commonstudents['LangAverage'] = (commonstudents.T1_Lang + commonstudents.T2_Lang + commonstudents.T3_Lang) / 3"
   ]
  },
  {
   "cell_type": "code",
   "execution_count": 75,
   "id": "painful-supervisor",
   "metadata": {},
   "outputs": [
    {
     "data": {
      "text/plain": [
       "<seaborn.axisgrid.JointGrid at 0x14d3b86f09d0>"
      ]
     },
     "execution_count": 75,
     "metadata": {},
     "output_type": "execute_result"
    },
    {
     "data": {
      "image/png": "[encoded data removed]",
      "text/plain": [
       "<Figure size 432x432 with 3 Axes>"
      ]
     },
     "metadata": {},
     "output_type": "display_data"
    }
   ],
   "source": [
    "# See the jointplot to try and identify any relationship\n",
    "sb.jointplot(data = commonstudents[['MathAverage', 'LangAverage']], x = 'MathAverage', y = 'LangAverage')"
   ]
  },
  {
   "cell_type": "markdown",
   "id": "convertible-sally",
   "metadata": {},
   "source": [
    "There seem to be a `linear relationship` between math and language performance. \n",
    "\n",
    "We can verify by looking at the correlation between the 2 variables."
   ]
  },
  {
   "cell_type": "code",
   "execution_count": 76,
   "id": "through-wireless",
   "metadata": {},
   "outputs": [
    {
     "data": {
      "text/html": [
       "<div>\n",
       "<style scoped>\n",
       "    .dataframe tbody tr th:only-of-type {\n",
       "        vertical-align: middle;\n",
       "    }\n",
       "\n",
       "    .dataframe tbody tr th {\n",
       "        vertical-align: top;\n",
       "    }\n",
       "\n",
       "    .dataframe thead th {\n",
       "        text-align: right;\n",
       "    }\n",
       "</style>\n",
       "<table border=\"1\" class=\"dataframe\">\n",
       "  <thead>\n",
       "    <tr style=\"text-align: right;\">\n",
       "      <th></th>\n",
       "      <th>MathAverage</th>\n",
       "      <th>LangAverage</th>\n",
       "    </tr>\n",
       "  </thead>\n",
       "  <tbody>\n",
       "    <tr>\n",
       "      <th>MathAverage</th>\n",
       "      <td>1.00</td>\n",
       "      <td>0.86</td>\n",
       "    </tr>\n",
       "    <tr>\n",
       "      <th>LangAverage</th>\n",
       "      <td>0.86</td>\n",
       "      <td>1.00</td>\n",
       "    </tr>\n",
       "  </tbody>\n",
       "</table>\n",
       "</div>"
      ],
      "text/plain": [
       "             MathAverage  LangAverage\n",
       "MathAverage         1.00         0.86\n",
       "LangAverage         0.86         1.00"
      ]
     },
     "execution_count": 76,
     "metadata": {},
     "output_type": "execute_result"
    }
   ],
   "source": [
    "commonstudents[['MathAverage', 'LangAverage']].corr().round(2)"
   ]
  },
  {
   "cell_type": "markdown",
   "id": "informed-qualification",
   "metadata": {},
   "source": [
    "The correlation is approximately 0.86 which suggest a strong positive linear relationship between math and language performance.\n",
    "\n",
    "Because there are only 39 datapoints, we will not proceed with linear regression to try and predict one subject's performance when given the other subject's performance."
   ]
  },
  {
   "cell_type": "code",
   "execution_count": null,
   "metadata": {},
   "outputs": [],
   "source": []
  }
 ],
 "metadata": {
  "kernelspec": {
   "name": "python3",
   "display_name": "Python 3.9.5 64-bit",
   "metadata": {
    "interpreter": {
     "hash": "b694e184ab59b6b0d17f98adbc89c259efff9a9414d3f3ae8a63cb70de076e39"
    }
   }
  },
  "language_info": {
   "codemirror_mode": {
    "name": "ipython",
    "version": 3
   },
   "file_extension": ".py",
   "mimetype": "text/x-python",
   "name": "python",
   "nbconvert_exporter": "python",
   "pygments_lexer": "ipython3",
   "version": "3.9.5"
  }
 },
 "nbformat": 4,
 "nbformat_minor": 5
}